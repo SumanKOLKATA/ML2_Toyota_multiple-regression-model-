{
 "cells": [
  {
   "cell_type": "code",
   "execution_count": 1,
   "id": "03594f76",
   "metadata": {},
   "outputs": [],
   "source": [
    "import pandas as pd \n",
    "import seaborn as sns\n",
    "import matplotlib.pyplot as plt"
   ]
  },
  {
   "cell_type": "code",
   "execution_count": 2,
   "id": "5b0afcf3",
   "metadata": {},
   "outputs": [],
   "source": [
    "file = pd.read_excel(\"D:/New Microsoft Excel Worksheet.xlsx\",parse_dates=[['Mfg_Month','Mfg_Year']])\n"
   ]
  },
  {
   "cell_type": "code",
   "execution_count": 3,
   "id": "db9edf3b",
   "metadata": {},
   "outputs": [
    {
     "data": {
      "text/html": [
       "<div>\n",
       "<style scoped>\n",
       "    .dataframe tbody tr th:only-of-type {\n",
       "        vertical-align: middle;\n",
       "    }\n",
       "\n",
       "    .dataframe tbody tr th {\n",
       "        vertical-align: top;\n",
       "    }\n",
       "\n",
       "    .dataframe thead th {\n",
       "        text-align: right;\n",
       "    }\n",
       "</style>\n",
       "<table border=\"1\" class=\"dataframe\">\n",
       "  <thead>\n",
       "    <tr style=\"text-align: right;\">\n",
       "      <th></th>\n",
       "      <th>Mfg_Month_Mfg_Year</th>\n",
       "      <th>Id</th>\n",
       "      <th>Model</th>\n",
       "      <th>Price</th>\n",
       "      <th>Age_08_04</th>\n",
       "      <th>KM</th>\n",
       "      <th>Fuel_Type</th>\n",
       "      <th>HP</th>\n",
       "      <th>Met_Color</th>\n",
       "      <th>Color</th>\n",
       "      <th>...</th>\n",
       "      <th>Central_Lock</th>\n",
       "      <th>Powered_Windows</th>\n",
       "      <th>Power_Steering</th>\n",
       "      <th>Radio</th>\n",
       "      <th>Mistlamps</th>\n",
       "      <th>Sport_Model</th>\n",
       "      <th>Backseat_Divider</th>\n",
       "      <th>Metallic_Rim</th>\n",
       "      <th>Radio_cassette</th>\n",
       "      <th>Tow_Bar</th>\n",
       "    </tr>\n",
       "  </thead>\n",
       "  <tbody>\n",
       "    <tr>\n",
       "      <th>0</th>\n",
       "      <td>2002-10-01</td>\n",
       "      <td>1</td>\n",
       "      <td>TOYOTA Corolla 2.0 D4D HATCHB TERRA 2/3-Doors</td>\n",
       "      <td>13500</td>\n",
       "      <td>23</td>\n",
       "      <td>46986</td>\n",
       "      <td>Diesel</td>\n",
       "      <td>90</td>\n",
       "      <td>1</td>\n",
       "      <td>Blue</td>\n",
       "      <td>...</td>\n",
       "      <td>1</td>\n",
       "      <td>1</td>\n",
       "      <td>1</td>\n",
       "      <td>0</td>\n",
       "      <td>0</td>\n",
       "      <td>0</td>\n",
       "      <td>1</td>\n",
       "      <td>0</td>\n",
       "      <td>0</td>\n",
       "      <td>0</td>\n",
       "    </tr>\n",
       "    <tr>\n",
       "      <th>1</th>\n",
       "      <td>2002-10-01</td>\n",
       "      <td>2</td>\n",
       "      <td>TOYOTA Corolla 2.0 D4D HATCHB TERRA 2/3-Doors</td>\n",
       "      <td>13750</td>\n",
       "      <td>23</td>\n",
       "      <td>72937</td>\n",
       "      <td>Diesel</td>\n",
       "      <td>90</td>\n",
       "      <td>1</td>\n",
       "      <td>Silver</td>\n",
       "      <td>...</td>\n",
       "      <td>1</td>\n",
       "      <td>0</td>\n",
       "      <td>1</td>\n",
       "      <td>0</td>\n",
       "      <td>0</td>\n",
       "      <td>0</td>\n",
       "      <td>1</td>\n",
       "      <td>0</td>\n",
       "      <td>0</td>\n",
       "      <td>0</td>\n",
       "    </tr>\n",
       "  </tbody>\n",
       "</table>\n",
       "<p>2 rows × 37 columns</p>\n",
       "</div>"
      ],
      "text/plain": [
       "  Mfg_Month_Mfg_Year  Id                                          Model  \\\n",
       "0         2002-10-01   1  TOYOTA Corolla 2.0 D4D HATCHB TERRA 2/3-Doors   \n",
       "1         2002-10-01   2  TOYOTA Corolla 2.0 D4D HATCHB TERRA 2/3-Doors   \n",
       "\n",
       "   Price  Age_08_04     KM Fuel_Type  HP  Met_Color   Color  ...  \\\n",
       "0  13500         23  46986    Diesel  90          1    Blue  ...   \n",
       "1  13750         23  72937    Diesel  90          1  Silver  ...   \n",
       "\n",
       "   Central_Lock  Powered_Windows  Power_Steering  Radio  Mistlamps  \\\n",
       "0             1                1               1      0          0   \n",
       "1             1                0               1      0          0   \n",
       "\n",
       "   Sport_Model  Backseat_Divider  Metallic_Rim  Radio_cassette  Tow_Bar  \n",
       "0            0                 1             0               0        0  \n",
       "1            0                 1             0               0        0  \n",
       "\n",
       "[2 rows x 37 columns]"
      ]
     },
     "execution_count": 3,
     "metadata": {},
     "output_type": "execute_result"
    }
   ],
   "source": [
    "file.head(2)"
   ]
  },
  {
   "cell_type": "markdown",
   "id": "97a4958f",
   "metadata": {},
   "source": [
    "# Copy the main data "
   ]
  },
  {
   "cell_type": "code",
   "execution_count": 4,
   "id": "3bc3a2f5",
   "metadata": {},
   "outputs": [],
   "source": [
    "df1 = file.copy()"
   ]
  },
  {
   "cell_type": "markdown",
   "id": "16dcdb75",
   "metadata": {},
   "source": [
    "# Columns"
   ]
  },
  {
   "cell_type": "code",
   "execution_count": 5,
   "id": "1d0871eb",
   "metadata": {},
   "outputs": [
    {
     "data": {
      "text/plain": [
       "Index(['Mfg_Month_Mfg_Year', 'Id', 'Model', 'Price', 'Age_08_04', 'KM',\n",
       "       'Fuel_Type', 'HP', 'Met_Color', 'Color', 'Automatic', 'cc', 'Doors',\n",
       "       'Cylinders', 'Gears', 'Quarterly_Tax', 'Weight', 'Mfr_Guarantee',\n",
       "       'BOVAG_Guarantee', 'Guarantee_Period', 'ABS', 'Airbag_1', 'Airbag_2',\n",
       "       'Airco', 'Automatic_airco', 'Boardcomputer', 'CD_Player',\n",
       "       'Central_Lock', 'Powered_Windows', 'Power_Steering', 'Radio',\n",
       "       'Mistlamps', 'Sport_Model', 'Backseat_Divider', 'Metallic_Rim',\n",
       "       'Radio_cassette', 'Tow_Bar'],\n",
       "      dtype='object')"
      ]
     },
     "execution_count": 5,
     "metadata": {},
     "output_type": "execute_result"
    }
   ],
   "source": [
    "df1.columns"
   ]
  },
  {
   "cell_type": "markdown",
   "id": "833b1b6f",
   "metadata": {},
   "source": [
    "# Data info"
   ]
  },
  {
   "cell_type": "code",
   "execution_count": 6,
   "id": "208e5c01",
   "metadata": {
    "collapsed": true
   },
   "outputs": [
    {
     "name": "stdout",
     "output_type": "stream",
     "text": [
      "<class 'pandas.core.frame.DataFrame'>\n",
      "RangeIndex: 1436 entries, 0 to 1435\n",
      "Data columns (total 37 columns):\n",
      " #   Column              Non-Null Count  Dtype         \n",
      "---  ------              --------------  -----         \n",
      " 0   Mfg_Month_Mfg_Year  1436 non-null   datetime64[ns]\n",
      " 1   Id                  1436 non-null   int64         \n",
      " 2   Model               1436 non-null   object        \n",
      " 3   Price               1436 non-null   int64         \n",
      " 4   Age_08_04           1436 non-null   int64         \n",
      " 5   KM                  1436 non-null   int64         \n",
      " 6   Fuel_Type           1436 non-null   object        \n",
      " 7   HP                  1436 non-null   int64         \n",
      " 8   Met_Color           1436 non-null   int64         \n",
      " 9   Color               1436 non-null   object        \n",
      " 10  Automatic           1436 non-null   int64         \n",
      " 11  cc                  1436 non-null   int64         \n",
      " 12  Doors               1436 non-null   int64         \n",
      " 13  Cylinders           1436 non-null   int64         \n",
      " 14  Gears               1436 non-null   int64         \n",
      " 15  Quarterly_Tax       1436 non-null   int64         \n",
      " 16  Weight              1436 non-null   int64         \n",
      " 17  Mfr_Guarantee       1436 non-null   int64         \n",
      " 18  BOVAG_Guarantee     1436 non-null   int64         \n",
      " 19  Guarantee_Period    1436 non-null   int64         \n",
      " 20  ABS                 1436 non-null   int64         \n",
      " 21  Airbag_1            1436 non-null   int64         \n",
      " 22  Airbag_2            1436 non-null   int64         \n",
      " 23  Airco               1436 non-null   int64         \n",
      " 24  Automatic_airco     1436 non-null   int64         \n",
      " 25  Boardcomputer       1436 non-null   int64         \n",
      " 26  CD_Player           1436 non-null   int64         \n",
      " 27  Central_Lock        1436 non-null   int64         \n",
      " 28  Powered_Windows     1436 non-null   int64         \n",
      " 29  Power_Steering      1436 non-null   int64         \n",
      " 30  Radio               1436 non-null   int64         \n",
      " 31  Mistlamps           1436 non-null   int64         \n",
      " 32  Sport_Model         1436 non-null   int64         \n",
      " 33  Backseat_Divider    1436 non-null   int64         \n",
      " 34  Metallic_Rim        1436 non-null   int64         \n",
      " 35  Radio_cassette      1436 non-null   int64         \n",
      " 36  Tow_Bar             1436 non-null   int64         \n",
      "dtypes: datetime64[ns](1), int64(33), object(3)\n",
      "memory usage: 415.2+ KB\n"
     ]
    }
   ],
   "source": [
    "df1.info()"
   ]
  },
  {
   "cell_type": "markdown",
   "id": "48d92d8b",
   "metadata": {},
   "source": [
    "# Find out Null values "
   ]
  },
  {
   "cell_type": "code",
   "execution_count": 7,
   "id": "b00cef42",
   "metadata": {
    "collapsed": true
   },
   "outputs": [
    {
     "data": {
      "text/plain": [
       "Mfg_Month_Mfg_Year    0\n",
       "Id                    0\n",
       "Model                 0\n",
       "Price                 0\n",
       "Age_08_04             0\n",
       "KM                    0\n",
       "Fuel_Type             0\n",
       "HP                    0\n",
       "Met_Color             0\n",
       "Color                 0\n",
       "Automatic             0\n",
       "cc                    0\n",
       "Doors                 0\n",
       "Cylinders             0\n",
       "Gears                 0\n",
       "Quarterly_Tax         0\n",
       "Weight                0\n",
       "Mfr_Guarantee         0\n",
       "BOVAG_Guarantee       0\n",
       "Guarantee_Period      0\n",
       "ABS                   0\n",
       "Airbag_1              0\n",
       "Airbag_2              0\n",
       "Airco                 0\n",
       "Automatic_airco       0\n",
       "Boardcomputer         0\n",
       "CD_Player             0\n",
       "Central_Lock          0\n",
       "Powered_Windows       0\n",
       "Power_Steering        0\n",
       "Radio                 0\n",
       "Mistlamps             0\n",
       "Sport_Model           0\n",
       "Backseat_Divider      0\n",
       "Metallic_Rim          0\n",
       "Radio_cassette        0\n",
       "Tow_Bar               0\n",
       "dtype: int64"
      ]
     },
     "execution_count": 7,
     "metadata": {},
     "output_type": "execute_result"
    }
   ],
   "source": [
    "df1.isnull().sum()"
   ]
  },
  {
   "cell_type": "markdown",
   "id": "62b2dd6b",
   "metadata": {},
   "source": [
    "No null value present"
   ]
  },
  {
   "cell_type": "markdown",
   "id": "ecffd7d2",
   "metadata": {},
   "source": [
    "# Stats of data "
   ]
  },
  {
   "cell_type": "code",
   "execution_count": 8,
   "id": "9a20c189",
   "metadata": {},
   "outputs": [
    {
     "name": "stderr",
     "output_type": "stream",
     "text": [
      "C:\\Users\\Acer\\AppData\\Local\\Temp\\ipykernel_8264\\146532056.py:1: FutureWarning: Treating datetime data as categorical rather than numeric in `.describe` is deprecated and will be removed in a future version of pandas. Specify `datetime_is_numeric=True` to silence this warning and adopt the future behavior now.\n",
      "  df1.describe(include='all')\n"
     ]
    },
    {
     "data": {
      "text/html": [
       "<div>\n",
       "<style scoped>\n",
       "    .dataframe tbody tr th:only-of-type {\n",
       "        vertical-align: middle;\n",
       "    }\n",
       "\n",
       "    .dataframe tbody tr th {\n",
       "        vertical-align: top;\n",
       "    }\n",
       "\n",
       "    .dataframe thead th {\n",
       "        text-align: right;\n",
       "    }\n",
       "</style>\n",
       "<table border=\"1\" class=\"dataframe\">\n",
       "  <thead>\n",
       "    <tr style=\"text-align: right;\">\n",
       "      <th></th>\n",
       "      <th>Mfg_Month_Mfg_Year</th>\n",
       "      <th>Id</th>\n",
       "      <th>Model</th>\n",
       "      <th>Price</th>\n",
       "      <th>Age_08_04</th>\n",
       "      <th>KM</th>\n",
       "      <th>Fuel_Type</th>\n",
       "      <th>HP</th>\n",
       "      <th>Met_Color</th>\n",
       "      <th>Color</th>\n",
       "      <th>...</th>\n",
       "      <th>Central_Lock</th>\n",
       "      <th>Powered_Windows</th>\n",
       "      <th>Power_Steering</th>\n",
       "      <th>Radio</th>\n",
       "      <th>Mistlamps</th>\n",
       "      <th>Sport_Model</th>\n",
       "      <th>Backseat_Divider</th>\n",
       "      <th>Metallic_Rim</th>\n",
       "      <th>Radio_cassette</th>\n",
       "      <th>Tow_Bar</th>\n",
       "    </tr>\n",
       "  </thead>\n",
       "  <tbody>\n",
       "    <tr>\n",
       "      <th>count</th>\n",
       "      <td>1436</td>\n",
       "      <td>1436.000000</td>\n",
       "      <td>1436</td>\n",
       "      <td>1436.000000</td>\n",
       "      <td>1436.000000</td>\n",
       "      <td>1436.000000</td>\n",
       "      <td>1436</td>\n",
       "      <td>1436.000000</td>\n",
       "      <td>1436.000000</td>\n",
       "      <td>1436</td>\n",
       "      <td>...</td>\n",
       "      <td>1436.000000</td>\n",
       "      <td>1436.000000</td>\n",
       "      <td>1436.000000</td>\n",
       "      <td>1436.000000</td>\n",
       "      <td>1436.000000</td>\n",
       "      <td>1436.000000</td>\n",
       "      <td>1436.000000</td>\n",
       "      <td>1436.000000</td>\n",
       "      <td>1436.000000</td>\n",
       "      <td>1436.000000</td>\n",
       "    </tr>\n",
       "    <tr>\n",
       "      <th>unique</th>\n",
       "      <td>77</td>\n",
       "      <td>NaN</td>\n",
       "      <td>372</td>\n",
       "      <td>NaN</td>\n",
       "      <td>NaN</td>\n",
       "      <td>NaN</td>\n",
       "      <td>3</td>\n",
       "      <td>NaN</td>\n",
       "      <td>NaN</td>\n",
       "      <td>10</td>\n",
       "      <td>...</td>\n",
       "      <td>NaN</td>\n",
       "      <td>NaN</td>\n",
       "      <td>NaN</td>\n",
       "      <td>NaN</td>\n",
       "      <td>NaN</td>\n",
       "      <td>NaN</td>\n",
       "      <td>NaN</td>\n",
       "      <td>NaN</td>\n",
       "      <td>NaN</td>\n",
       "      <td>NaN</td>\n",
       "    </tr>\n",
       "    <tr>\n",
       "      <th>top</th>\n",
       "      <td>1999-01-01 00:00:00</td>\n",
       "      <td>NaN</td>\n",
       "      <td>TOYOTA Corolla 1.6 16V HATCHB LINEA TERRA 2/3-...</td>\n",
       "      <td>NaN</td>\n",
       "      <td>NaN</td>\n",
       "      <td>NaN</td>\n",
       "      <td>Petrol</td>\n",
       "      <td>NaN</td>\n",
       "      <td>NaN</td>\n",
       "      <td>Grey</td>\n",
       "      <td>...</td>\n",
       "      <td>NaN</td>\n",
       "      <td>NaN</td>\n",
       "      <td>NaN</td>\n",
       "      <td>NaN</td>\n",
       "      <td>NaN</td>\n",
       "      <td>NaN</td>\n",
       "      <td>NaN</td>\n",
       "      <td>NaN</td>\n",
       "      <td>NaN</td>\n",
       "      <td>NaN</td>\n",
       "    </tr>\n",
       "    <tr>\n",
       "      <th>freq</th>\n",
       "      <td>69</td>\n",
       "      <td>NaN</td>\n",
       "      <td>107</td>\n",
       "      <td>NaN</td>\n",
       "      <td>NaN</td>\n",
       "      <td>NaN</td>\n",
       "      <td>1264</td>\n",
       "      <td>NaN</td>\n",
       "      <td>NaN</td>\n",
       "      <td>301</td>\n",
       "      <td>...</td>\n",
       "      <td>NaN</td>\n",
       "      <td>NaN</td>\n",
       "      <td>NaN</td>\n",
       "      <td>NaN</td>\n",
       "      <td>NaN</td>\n",
       "      <td>NaN</td>\n",
       "      <td>NaN</td>\n",
       "      <td>NaN</td>\n",
       "      <td>NaN</td>\n",
       "      <td>NaN</td>\n",
       "    </tr>\n",
       "    <tr>\n",
       "      <th>first</th>\n",
       "      <td>1998-01-01 00:00:00</td>\n",
       "      <td>NaN</td>\n",
       "      <td>NaN</td>\n",
       "      <td>NaN</td>\n",
       "      <td>NaN</td>\n",
       "      <td>NaN</td>\n",
       "      <td>NaN</td>\n",
       "      <td>NaN</td>\n",
       "      <td>NaN</td>\n",
       "      <td>NaN</td>\n",
       "      <td>...</td>\n",
       "      <td>NaN</td>\n",
       "      <td>NaN</td>\n",
       "      <td>NaN</td>\n",
       "      <td>NaN</td>\n",
       "      <td>NaN</td>\n",
       "      <td>NaN</td>\n",
       "      <td>NaN</td>\n",
       "      <td>NaN</td>\n",
       "      <td>NaN</td>\n",
       "      <td>NaN</td>\n",
       "    </tr>\n",
       "    <tr>\n",
       "      <th>last</th>\n",
       "      <td>2004-08-01 00:00:00</td>\n",
       "      <td>NaN</td>\n",
       "      <td>NaN</td>\n",
       "      <td>NaN</td>\n",
       "      <td>NaN</td>\n",
       "      <td>NaN</td>\n",
       "      <td>NaN</td>\n",
       "      <td>NaN</td>\n",
       "      <td>NaN</td>\n",
       "      <td>NaN</td>\n",
       "      <td>...</td>\n",
       "      <td>NaN</td>\n",
       "      <td>NaN</td>\n",
       "      <td>NaN</td>\n",
       "      <td>NaN</td>\n",
       "      <td>NaN</td>\n",
       "      <td>NaN</td>\n",
       "      <td>NaN</td>\n",
       "      <td>NaN</td>\n",
       "      <td>NaN</td>\n",
       "      <td>NaN</td>\n",
       "    </tr>\n",
       "    <tr>\n",
       "      <th>mean</th>\n",
       "      <td>NaN</td>\n",
       "      <td>721.555014</td>\n",
       "      <td>NaN</td>\n",
       "      <td>10730.824513</td>\n",
       "      <td>55.947075</td>\n",
       "      <td>68533.259749</td>\n",
       "      <td>NaN</td>\n",
       "      <td>101.502089</td>\n",
       "      <td>0.674791</td>\n",
       "      <td>NaN</td>\n",
       "      <td>...</td>\n",
       "      <td>0.580084</td>\n",
       "      <td>0.561978</td>\n",
       "      <td>0.977716</td>\n",
       "      <td>0.146240</td>\n",
       "      <td>0.256964</td>\n",
       "      <td>0.300139</td>\n",
       "      <td>0.770195</td>\n",
       "      <td>0.204735</td>\n",
       "      <td>0.145543</td>\n",
       "      <td>0.277855</td>\n",
       "    </tr>\n",
       "    <tr>\n",
       "      <th>std</th>\n",
       "      <td>NaN</td>\n",
       "      <td>416.476890</td>\n",
       "      <td>NaN</td>\n",
       "      <td>3626.964585</td>\n",
       "      <td>18.599988</td>\n",
       "      <td>37506.448872</td>\n",
       "      <td>NaN</td>\n",
       "      <td>14.981080</td>\n",
       "      <td>0.468616</td>\n",
       "      <td>NaN</td>\n",
       "      <td>...</td>\n",
       "      <td>0.493717</td>\n",
       "      <td>0.496317</td>\n",
       "      <td>0.147657</td>\n",
       "      <td>0.353469</td>\n",
       "      <td>0.437111</td>\n",
       "      <td>0.458478</td>\n",
       "      <td>0.420854</td>\n",
       "      <td>0.403649</td>\n",
       "      <td>0.352770</td>\n",
       "      <td>0.448098</td>\n",
       "    </tr>\n",
       "    <tr>\n",
       "      <th>min</th>\n",
       "      <td>NaN</td>\n",
       "      <td>1.000000</td>\n",
       "      <td>NaN</td>\n",
       "      <td>4350.000000</td>\n",
       "      <td>1.000000</td>\n",
       "      <td>1.000000</td>\n",
       "      <td>NaN</td>\n",
       "      <td>69.000000</td>\n",
       "      <td>0.000000</td>\n",
       "      <td>NaN</td>\n",
       "      <td>...</td>\n",
       "      <td>0.000000</td>\n",
       "      <td>0.000000</td>\n",
       "      <td>0.000000</td>\n",
       "      <td>0.000000</td>\n",
       "      <td>0.000000</td>\n",
       "      <td>0.000000</td>\n",
       "      <td>0.000000</td>\n",
       "      <td>0.000000</td>\n",
       "      <td>0.000000</td>\n",
       "      <td>0.000000</td>\n",
       "    </tr>\n",
       "    <tr>\n",
       "      <th>25%</th>\n",
       "      <td>NaN</td>\n",
       "      <td>361.750000</td>\n",
       "      <td>NaN</td>\n",
       "      <td>8450.000000</td>\n",
       "      <td>44.000000</td>\n",
       "      <td>43000.000000</td>\n",
       "      <td>NaN</td>\n",
       "      <td>90.000000</td>\n",
       "      <td>0.000000</td>\n",
       "      <td>NaN</td>\n",
       "      <td>...</td>\n",
       "      <td>0.000000</td>\n",
       "      <td>0.000000</td>\n",
       "      <td>1.000000</td>\n",
       "      <td>0.000000</td>\n",
       "      <td>0.000000</td>\n",
       "      <td>0.000000</td>\n",
       "      <td>1.000000</td>\n",
       "      <td>0.000000</td>\n",
       "      <td>0.000000</td>\n",
       "      <td>0.000000</td>\n",
       "    </tr>\n",
       "    <tr>\n",
       "      <th>50%</th>\n",
       "      <td>NaN</td>\n",
       "      <td>721.500000</td>\n",
       "      <td>NaN</td>\n",
       "      <td>9900.000000</td>\n",
       "      <td>61.000000</td>\n",
       "      <td>63389.500000</td>\n",
       "      <td>NaN</td>\n",
       "      <td>110.000000</td>\n",
       "      <td>1.000000</td>\n",
       "      <td>NaN</td>\n",
       "      <td>...</td>\n",
       "      <td>1.000000</td>\n",
       "      <td>1.000000</td>\n",
       "      <td>1.000000</td>\n",
       "      <td>0.000000</td>\n",
       "      <td>0.000000</td>\n",
       "      <td>0.000000</td>\n",
       "      <td>1.000000</td>\n",
       "      <td>0.000000</td>\n",
       "      <td>0.000000</td>\n",
       "      <td>0.000000</td>\n",
       "    </tr>\n",
       "    <tr>\n",
       "      <th>75%</th>\n",
       "      <td>NaN</td>\n",
       "      <td>1081.250000</td>\n",
       "      <td>NaN</td>\n",
       "      <td>11950.000000</td>\n",
       "      <td>70.000000</td>\n",
       "      <td>87020.750000</td>\n",
       "      <td>NaN</td>\n",
       "      <td>110.000000</td>\n",
       "      <td>1.000000</td>\n",
       "      <td>NaN</td>\n",
       "      <td>...</td>\n",
       "      <td>1.000000</td>\n",
       "      <td>1.000000</td>\n",
       "      <td>1.000000</td>\n",
       "      <td>0.000000</td>\n",
       "      <td>1.000000</td>\n",
       "      <td>1.000000</td>\n",
       "      <td>1.000000</td>\n",
       "      <td>0.000000</td>\n",
       "      <td>0.000000</td>\n",
       "      <td>1.000000</td>\n",
       "    </tr>\n",
       "    <tr>\n",
       "      <th>max</th>\n",
       "      <td>NaN</td>\n",
       "      <td>1442.000000</td>\n",
       "      <td>NaN</td>\n",
       "      <td>32500.000000</td>\n",
       "      <td>80.000000</td>\n",
       "      <td>243000.000000</td>\n",
       "      <td>NaN</td>\n",
       "      <td>192.000000</td>\n",
       "      <td>1.000000</td>\n",
       "      <td>NaN</td>\n",
       "      <td>...</td>\n",
       "      <td>1.000000</td>\n",
       "      <td>1.000000</td>\n",
       "      <td>1.000000</td>\n",
       "      <td>1.000000</td>\n",
       "      <td>1.000000</td>\n",
       "      <td>1.000000</td>\n",
       "      <td>1.000000</td>\n",
       "      <td>1.000000</td>\n",
       "      <td>1.000000</td>\n",
       "      <td>1.000000</td>\n",
       "    </tr>\n",
       "  </tbody>\n",
       "</table>\n",
       "<p>13 rows × 37 columns</p>\n",
       "</div>"
      ],
      "text/plain": [
       "         Mfg_Month_Mfg_Year           Id  \\\n",
       "count                  1436  1436.000000   \n",
       "unique                   77          NaN   \n",
       "top     1999-01-01 00:00:00          NaN   \n",
       "freq                     69          NaN   \n",
       "first   1998-01-01 00:00:00          NaN   \n",
       "last    2004-08-01 00:00:00          NaN   \n",
       "mean                    NaN   721.555014   \n",
       "std                     NaN   416.476890   \n",
       "min                     NaN     1.000000   \n",
       "25%                     NaN   361.750000   \n",
       "50%                     NaN   721.500000   \n",
       "75%                     NaN  1081.250000   \n",
       "max                     NaN  1442.000000   \n",
       "\n",
       "                                                    Model         Price  \\\n",
       "count                                                1436   1436.000000   \n",
       "unique                                                372           NaN   \n",
       "top     TOYOTA Corolla 1.6 16V HATCHB LINEA TERRA 2/3-...           NaN   \n",
       "freq                                                  107           NaN   \n",
       "first                                                 NaN           NaN   \n",
       "last                                                  NaN           NaN   \n",
       "mean                                                  NaN  10730.824513   \n",
       "std                                                   NaN   3626.964585   \n",
       "min                                                   NaN   4350.000000   \n",
       "25%                                                   NaN   8450.000000   \n",
       "50%                                                   NaN   9900.000000   \n",
       "75%                                                   NaN  11950.000000   \n",
       "max                                                   NaN  32500.000000   \n",
       "\n",
       "          Age_08_04             KM Fuel_Type           HP    Met_Color Color  \\\n",
       "count   1436.000000    1436.000000      1436  1436.000000  1436.000000  1436   \n",
       "unique          NaN            NaN         3          NaN          NaN    10   \n",
       "top             NaN            NaN    Petrol          NaN          NaN  Grey   \n",
       "freq            NaN            NaN      1264          NaN          NaN   301   \n",
       "first           NaN            NaN       NaN          NaN          NaN   NaN   \n",
       "last            NaN            NaN       NaN          NaN          NaN   NaN   \n",
       "mean      55.947075   68533.259749       NaN   101.502089     0.674791   NaN   \n",
       "std       18.599988   37506.448872       NaN    14.981080     0.468616   NaN   \n",
       "min        1.000000       1.000000       NaN    69.000000     0.000000   NaN   \n",
       "25%       44.000000   43000.000000       NaN    90.000000     0.000000   NaN   \n",
       "50%       61.000000   63389.500000       NaN   110.000000     1.000000   NaN   \n",
       "75%       70.000000   87020.750000       NaN   110.000000     1.000000   NaN   \n",
       "max       80.000000  243000.000000       NaN   192.000000     1.000000   NaN   \n",
       "\n",
       "        ...  Central_Lock  Powered_Windows  Power_Steering        Radio  \\\n",
       "count   ...   1436.000000      1436.000000     1436.000000  1436.000000   \n",
       "unique  ...           NaN              NaN             NaN          NaN   \n",
       "top     ...           NaN              NaN             NaN          NaN   \n",
       "freq    ...           NaN              NaN             NaN          NaN   \n",
       "first   ...           NaN              NaN             NaN          NaN   \n",
       "last    ...           NaN              NaN             NaN          NaN   \n",
       "mean    ...      0.580084         0.561978        0.977716     0.146240   \n",
       "std     ...      0.493717         0.496317        0.147657     0.353469   \n",
       "min     ...      0.000000         0.000000        0.000000     0.000000   \n",
       "25%     ...      0.000000         0.000000        1.000000     0.000000   \n",
       "50%     ...      1.000000         1.000000        1.000000     0.000000   \n",
       "75%     ...      1.000000         1.000000        1.000000     0.000000   \n",
       "max     ...      1.000000         1.000000        1.000000     1.000000   \n",
       "\n",
       "          Mistlamps  Sport_Model  Backseat_Divider  Metallic_Rim  \\\n",
       "count   1436.000000  1436.000000       1436.000000   1436.000000   \n",
       "unique          NaN          NaN               NaN           NaN   \n",
       "top             NaN          NaN               NaN           NaN   \n",
       "freq            NaN          NaN               NaN           NaN   \n",
       "first           NaN          NaN               NaN           NaN   \n",
       "last            NaN          NaN               NaN           NaN   \n",
       "mean       0.256964     0.300139          0.770195      0.204735   \n",
       "std        0.437111     0.458478          0.420854      0.403649   \n",
       "min        0.000000     0.000000          0.000000      0.000000   \n",
       "25%        0.000000     0.000000          1.000000      0.000000   \n",
       "50%        0.000000     0.000000          1.000000      0.000000   \n",
       "75%        1.000000     1.000000          1.000000      0.000000   \n",
       "max        1.000000     1.000000          1.000000      1.000000   \n",
       "\n",
       "        Radio_cassette      Tow_Bar  \n",
       "count      1436.000000  1436.000000  \n",
       "unique             NaN          NaN  \n",
       "top                NaN          NaN  \n",
       "freq               NaN          NaN  \n",
       "first              NaN          NaN  \n",
       "last               NaN          NaN  \n",
       "mean          0.145543     0.277855  \n",
       "std           0.352770     0.448098  \n",
       "min           0.000000     0.000000  \n",
       "25%           0.000000     0.000000  \n",
       "50%           0.000000     0.000000  \n",
       "75%           0.000000     1.000000  \n",
       "max           1.000000     1.000000  \n",
       "\n",
       "[13 rows x 37 columns]"
      ]
     },
     "execution_count": 8,
     "metadata": {},
     "output_type": "execute_result"
    }
   ],
   "source": [
    "df1.describe(include='all')"
   ]
  },
  {
   "cell_type": "markdown",
   "id": "0c2117b9",
   "metadata": {},
   "source": [
    "# Highest price orineted model "
   ]
  },
  {
   "cell_type": "code",
   "execution_count": 9,
   "id": "df679f2e",
   "metadata": {},
   "outputs": [
    {
     "data": {
      "text/plain": [
       "Model\n",
       " TOYOTA Corolla VERSO 2.0 D4D SOL (7) BNS MPV    32500\n",
       "Name: Price, dtype: int64"
      ]
     },
     "execution_count": 9,
     "metadata": {},
     "output_type": "execute_result"
    }
   ],
   "source": [
    "df1.groupby('Model')['Price'].max().sort_values(ascending=False).head(1)"
   ]
  },
  {
   "cell_type": "markdown",
   "id": "227e810c",
   "metadata": {},
   "source": [
    "# Lowest price oriented model"
   ]
  },
  {
   "cell_type": "code",
   "execution_count": 10,
   "id": "863ee40a",
   "metadata": {},
   "outputs": [
    {
     "data": {
      "text/plain": [
       "Model\n",
       "TOYOTA Corolla 1.8D Stationwagen    4350\n",
       "Name: Price, dtype: int64"
      ]
     },
     "execution_count": 10,
     "metadata": {},
     "output_type": "execute_result"
    }
   ],
   "source": [
    "df1.groupby('Model')['Price'].min().sort_values(ascending=True).head(1)"
   ]
  },
  {
   "cell_type": "markdown",
   "id": "e6f4556e",
   "metadata": {},
   "source": [
    "# Average price of models"
   ]
  },
  {
   "cell_type": "code",
   "execution_count": 442,
   "id": "1afe9340",
   "metadata": {},
   "outputs": [
    {
     "data": {
      "text/plain": [
       "Model\n",
       "TOYOTA Corolla                                                            9390.0\n",
       "TOYOTA Corolla ! 1.6-16v vvt-i sol airco sedan 4/5-Doors                  9940.0\n",
       "TOYOTA Corolla 1 6-16v VVT-i Linea Terra Comfort Airco 5drs 4/5-Doors    15950.0\n",
       "Name: Price, dtype: float64"
      ]
     },
     "execution_count": 442,
     "metadata": {},
     "output_type": "execute_result"
    }
   ],
   "source": [
    "avr=df1.groupby('Model')['Price'].mean().head(3)\n",
    "avr"
   ]
  },
  {
   "cell_type": "markdown",
   "id": "6faebb5b",
   "metadata": {},
   "source": [
    "# Number of models"
   ]
  },
  {
   "cell_type": "code",
   "execution_count": 12,
   "id": "4908d9ea",
   "metadata": {},
   "outputs": [
    {
     "data": {
      "text/plain": [
       "372"
      ]
     },
     "execution_count": 12,
     "metadata": {},
     "output_type": "execute_result"
    }
   ],
   "source": [
    "df1['Model'].nunique()"
   ]
  },
  {
   "cell_type": "markdown",
   "id": "b33434b6",
   "metadata": {},
   "source": [
    "# Top 5 maximum KM run by model "
   ]
  },
  {
   "cell_type": "code",
   "execution_count": 13,
   "id": "145ebdb1",
   "metadata": {},
   "outputs": [
    {
     "data": {
      "text/plain": [
       "Model\n",
       "TOYOTA Corolla 2.0 DSL WAGON LINEA TERRA COMM Anders    232940.0\n",
       " TOYOTA Corolla 1.9 D HATCHB SOL 2/3-Doors              216000.0\n",
       "TOYOTA Corolla 1.6 LB *G3* AIRCO 4/5-Doors              207114.0\n",
       "TOYOTA Corolla 2.0D LINEA TERRA+airco 2/3-Doors         203254.0\n",
       "TOYOTA Corolla 1.9 D SEDAN TERRA 4/5-Doors              198167.0\n",
       "Name: KM, dtype: float64"
      ]
     },
     "execution_count": 13,
     "metadata": {},
     "output_type": "execute_result"
    }
   ],
   "source": [
    "df1.groupby('Model')['KM'].mean().sort_values(ascending=False).head(5)"
   ]
  },
  {
   "cell_type": "markdown",
   "id": "e871b728",
   "metadata": {},
   "source": [
    "# Least 5 minimum KM run by model "
   ]
  },
  {
   "cell_type": "code",
   "execution_count": 14,
   "id": "0962ebda",
   "metadata": {},
   "outputs": [
    {
     "data": {
      "text/plain": [
       "Model\n",
       " TOYOTA Corolla VERSO 2.0 D4D SOL (7) BNS MPV                                  1\n",
       "TOYOTA Corolla 1.6-16v VVT-i Linea Terra Comfort AIRCO NIEUW 5DRS 4/5-Doors    1\n",
       "TOYOTA Corolla 1.6-16v VVT-i Linea Terra Comfort NIEUW AIRCO 5drs 4/5-Doors    1\n",
       "TOYOTA Corolla 1.6 LB LINEA TERRA 4/5-Doors                                    1\n",
       "TOYOTA Corolla 2.0 d HB Diesel 2/3-Doors                                       1\n",
       "Name: KM, dtype: int64"
      ]
     },
     "execution_count": 14,
     "metadata": {},
     "output_type": "execute_result"
    }
   ],
   "source": [
    "df1.groupby('Model')['KM'].min().sort_values(ascending=True).head(5)"
   ]
  },
  {
   "cell_type": "markdown",
   "id": "2dff56c4",
   "metadata": {},
   "source": [
    "# Number of sports car "
   ]
  },
  {
   "cell_type": "code",
   "execution_count": 15,
   "id": "d68e53a5",
   "metadata": {},
   "outputs": [
    {
     "name": "stdout",
     "output_type": "stream",
     "text": [
      "Number of Sports car= 431\n"
     ]
    }
   ],
   "source": [
    "spr=len(df1[df1['Sport_Model']==1])\n",
    "print('Number of Sports car=',spr)"
   ]
  },
  {
   "cell_type": "markdown",
   "id": "190dde6d",
   "metadata": {},
   "source": [
    "# Number of car has Automatic feture"
   ]
  },
  {
   "cell_type": "code",
   "execution_count": 16,
   "id": "3937514d",
   "metadata": {},
   "outputs": [
    {
     "name": "stdout",
     "output_type": "stream",
     "text": [
      "Number of car has Automatic feture = 80\n"
     ]
    }
   ],
   "source": [
    "auto=len(df1[df1['Automatic']==1])\n",
    "print('Number of car has Automatic feture =', auto)"
   ]
  },
  {
   "cell_type": "markdown",
   "id": "772f26af",
   "metadata": {},
   "source": [
    "# Highest 'CC' based model "
   ]
  },
  {
   "cell_type": "code",
   "execution_count": 17,
   "id": "1aef17cb",
   "metadata": {},
   "outputs": [
    {
     "data": {
      "text/html": [
       "<div>\n",
       "<style scoped>\n",
       "    .dataframe tbody tr th:only-of-type {\n",
       "        vertical-align: middle;\n",
       "    }\n",
       "\n",
       "    .dataframe tbody tr th {\n",
       "        vertical-align: top;\n",
       "    }\n",
       "\n",
       "    .dataframe thead th {\n",
       "        text-align: right;\n",
       "    }\n",
       "</style>\n",
       "<table border=\"1\" class=\"dataframe\">\n",
       "  <thead>\n",
       "    <tr style=\"text-align: right;\">\n",
       "      <th></th>\n",
       "      <th>Model</th>\n",
       "      <th>cc</th>\n",
       "    </tr>\n",
       "  </thead>\n",
       "  <tbody>\n",
       "    <tr>\n",
       "      <th>80</th>\n",
       "      <td>TOYOTA Corolla 1.6 5drs 1 4/5-Doors</td>\n",
       "      <td>16000</td>\n",
       "    </tr>\n",
       "  </tbody>\n",
       "</table>\n",
       "</div>"
      ],
      "text/plain": [
       "                                  Model     cc\n",
       "80  TOYOTA Corolla 1.6 5drs 1 4/5-Doors  16000"
      ]
     },
     "execution_count": 17,
     "metadata": {},
     "output_type": "execute_result"
    }
   ],
   "source": [
    "df1.sort_values(by='cc', ascending=False).head(1)[['Model','cc']]"
   ]
  },
  {
   "cell_type": "markdown",
   "id": "94a4f1e7",
   "metadata": {},
   "source": [
    "# Top 5 highest weight oriented model"
   ]
  },
  {
   "cell_type": "code",
   "execution_count": 18,
   "id": "953e8112",
   "metadata": {},
   "outputs": [
    {
     "data": {
      "text/html": [
       "<div>\n",
       "<style scoped>\n",
       "    .dataframe tbody tr th:only-of-type {\n",
       "        vertical-align: middle;\n",
       "    }\n",
       "\n",
       "    .dataframe tbody tr th {\n",
       "        vertical-align: top;\n",
       "    }\n",
       "\n",
       "    .dataframe thead th {\n",
       "        text-align: right;\n",
       "    }\n",
       "</style>\n",
       "<table border=\"1\" class=\"dataframe\">\n",
       "  <thead>\n",
       "    <tr style=\"text-align: right;\">\n",
       "      <th></th>\n",
       "      <th>Model</th>\n",
       "      <th>Weight</th>\n",
       "    </tr>\n",
       "  </thead>\n",
       "  <tbody>\n",
       "    <tr>\n",
       "      <th>221</th>\n",
       "      <td>TOYOTA Corolla 1.6 HB LINEA SOL 4/5-Doors</td>\n",
       "      <td>1615</td>\n",
       "    </tr>\n",
       "    <tr>\n",
       "      <th>110</th>\n",
       "      <td>TOYOTA Corolla VERSO 2.0 D4D SOL (7) MPV</td>\n",
       "      <td>1480</td>\n",
       "    </tr>\n",
       "    <tr>\n",
       "      <th>960</th>\n",
       "      <td>TOYOTA Corolla</td>\n",
       "      <td>1480</td>\n",
       "    </tr>\n",
       "    <tr>\n",
       "      <th>109</th>\n",
       "      <td>TOYOTA Corolla VERSO 2.0 D4D SOL (7) BNS MPV</td>\n",
       "      <td>1480</td>\n",
       "    </tr>\n",
       "    <tr>\n",
       "      <th>111</th>\n",
       "      <td>TOYOTA Corolla VERSO 2.0 D4D SOL (7) MPV</td>\n",
       "      <td>1480</td>\n",
       "    </tr>\n",
       "  </tbody>\n",
       "</table>\n",
       "</div>"
      ],
      "text/plain": [
       "                                             Model  Weight\n",
       "221      TOYOTA Corolla 1.6 HB LINEA SOL 4/5-Doors    1615\n",
       "110       TOYOTA Corolla VERSO 2.0 D4D SOL (7) MPV    1480\n",
       "960                                TOYOTA Corolla     1480\n",
       "109   TOYOTA Corolla VERSO 2.0 D4D SOL (7) BNS MPV    1480\n",
       "111       TOYOTA Corolla VERSO 2.0 D4D SOL (7) MPV    1480"
      ]
     },
     "execution_count": 18,
     "metadata": {},
     "output_type": "execute_result"
    }
   ],
   "source": [
    "df1.sort_values(by='Weight', ascending=False).head(5)[['Model','Weight']]"
   ]
  },
  {
   "cell_type": "markdown",
   "id": "6c3ddfc5",
   "metadata": {},
   "source": [
    "# Relation between Weight and Quarterly_Tax"
   ]
  },
  {
   "cell_type": "code",
   "execution_count": 19,
   "id": "18cb9e82",
   "metadata": {},
   "outputs": [
    {
     "data": {
      "image/png": "[encoded data removed]",
      "text/plain": [
       "<Figure size 800x600 with 1 Axes>"
      ]
     },
     "metadata": {},
     "output_type": "display_data"
    }
   ],
   "source": [
    "plt.figure(figsize=(8,6))\n",
    "sns.scatterplot(x='Weight', y='Quarterly_Tax', data=df1)\n",
    "plt.show()"
   ]
  },
  {
   "cell_type": "code",
   "execution_count": 20,
   "id": "1386c822",
   "metadata": {},
   "outputs": [
    {
     "data": {
      "image/png": "[encoded data removed]",
      "text/plain": [
       "<Figure size 800x600 with 1 Axes>"
      ]
     },
     "metadata": {},
     "output_type": "display_data"
    }
   ],
   "source": [
    "plt.figure(figsize=(8,6))\n",
    "sns.scatterplot(x='Price', y='cc', data=df1)\n",
    "plt.show()"
   ]
  },
  {
   "cell_type": "code",
   "execution_count": 25,
   "id": "307dd01c",
   "metadata": {},
   "outputs": [
    {
     "data": {
      "text/plain": [
       "Index(['Mfg_Month_Mfg_Year', 'Id', 'Model', 'Price', 'Age_08_04', 'KM',\n",
       "       'Fuel_Type', 'HP', 'Met_Color', 'Color', 'Automatic', 'cc', 'Doors',\n",
       "       'Cylinders', 'Gears', 'Quarterly_Tax', 'Weight', 'Mfr_Guarantee',\n",
       "       'BOVAG_Guarantee', 'Guarantee_Period', 'ABS', 'Airbag_1', 'Airbag_2',\n",
       "       'Airco', 'Automatic_airco', 'Boardcomputer', 'CD_Player',\n",
       "       'Central_Lock', 'Powered_Windows', 'Power_Steering', 'Radio',\n",
       "       'Mistlamps', 'Sport_Model', 'Backseat_Divider', 'Metallic_Rim',\n",
       "       'Radio_cassette', 'Tow_Bar'],\n",
       "      dtype='object')"
      ]
     },
     "execution_count": 25,
     "metadata": {},
     "output_type": "execute_result"
    }
   ],
   "source": [
    "df1.columns"
   ]
  },
  {
   "cell_type": "markdown",
   "id": "64fcafb9",
   "metadata": {},
   "source": [
    "# Year wise model's fuel type orineted price analysis"
   ]
  },
  {
   "cell_type": "code",
   "execution_count": 241,
   "id": "41909f47",
   "metadata": {},
   "outputs": [
    {
     "data": {
      "image/png": "[encoded data removed]",
      "text/plain": [
       "<Figure size 600x400 with 1 Axes>"
      ]
     },
     "metadata": {},
     "output_type": "display_data"
    }
   ],
   "source": [
    "plt.figure(figsize=(6,4))\n",
    "sns.lineplot(x='Fuel_Type', y='Price', hue='HP', data=df1)\n",
    "plt.show()"
   ]
  },
  {
   "cell_type": "markdown",
   "id": "dbb78c03",
   "metadata": {},
   "source": [
    "# Constant growth in model's price and HP has been identified as one of element that impact on model price  \n",
    "1. Diesel model price is constant higher than pertol and cng"
   ]
  },
  {
   "cell_type": "markdown",
   "id": "cb5de259",
   "metadata": {},
   "source": [
    "# Year wise model's fuel type orineted price analysis"
   ]
  },
  {
   "cell_type": "code",
   "execution_count": 242,
   "id": "b91a0412",
   "metadata": {},
   "outputs": [
    {
     "data": {
      "image/png": "[encoded data removed]",
      "text/plain": [
       "<Figure size 600x400 with 1 Axes>"
      ]
     },
     "metadata": {},
     "output_type": "display_data"
    }
   ],
   "source": [
    "plt.figure(figsize=(6,4))\n",
    "sns.lineplot(x='Fuel_Type', y='Price', hue='Sport_Model', data=df1)\n",
    "plt.show()"
   ]
  },
  {
   "cell_type": "markdown",
   "id": "9873037f",
   "metadata": {},
   "source": [
    "# Constant growth in sports model's price and fuel_type has been identified as one of element that impact on model price  \n",
    "1. Diesel model price of sports models is higher than pertol and cng"
   ]
  },
  {
   "cell_type": "markdown",
   "id": "e19abaaf",
   "metadata": {},
   "source": [
    "# Model- 1"
   ]
  },
  {
   "cell_type": "code",
   "execution_count": 28,
   "id": "b2fcf286",
   "metadata": {},
   "outputs": [
    {
     "data": {
      "text/plain": [
       "Index(['Mfg_Month_Mfg_Year', 'Id', 'Model', 'Price', 'Age_08_04', 'KM',\n",
       "       'Fuel_Type', 'HP', 'Met_Color', 'Color', 'Automatic', 'cc', 'Doors',\n",
       "       'Cylinders', 'Gears', 'Quarterly_Tax', 'Weight', 'Mfr_Guarantee',\n",
       "       'BOVAG_Guarantee', 'Guarantee_Period', 'ABS', 'Airbag_1', 'Airbag_2',\n",
       "       'Airco', 'Automatic_airco', 'Boardcomputer', 'CD_Player',\n",
       "       'Central_Lock', 'Powered_Windows', 'Power_Steering', 'Radio',\n",
       "       'Mistlamps', 'Sport_Model', 'Backseat_Divider', 'Metallic_Rim',\n",
       "       'Radio_cassette', 'Tow_Bar'],\n",
       "      dtype='object')"
      ]
     },
     "execution_count": 28,
     "metadata": {},
     "output_type": "execute_result"
    }
   ],
   "source": [
    "df1.columns"
   ]
  },
  {
   "cell_type": "code",
   "execution_count": 33,
   "id": "db900ee4",
   "metadata": {},
   "outputs": [
    {
     "data": {
      "text/plain": [
       "array(['Diesel', 'Petrol', 'CNG'], dtype=object)"
      ]
     },
     "execution_count": 33,
     "metadata": {},
     "output_type": "execute_result"
    }
   ],
   "source": [
    "df1['Fuel_Type'].unique()"
   ]
  },
  {
   "cell_type": "code",
   "execution_count": 35,
   "id": "4c086c4d",
   "metadata": {},
   "outputs": [
    {
     "data": {
      "text/plain": [
       "array(['Blue', 'Silver', 'Black', 'White', 'Grey', 'Red', 'Green',\n",
       "       'Yellow', 'Violet', 'Beige'], dtype=object)"
      ]
     },
     "execution_count": 35,
     "metadata": {},
     "output_type": "execute_result"
    }
   ],
   "source": [
    "df1['Color'].unique()"
   ]
  },
  {
   "cell_type": "markdown",
   "id": "e5cfd90f",
   "metadata": {},
   "source": [
    "# Encode Fuel Type"
   ]
  },
  {
   "cell_type": "code",
   "execution_count": 36,
   "id": "5948ad06",
   "metadata": {},
   "outputs": [
    {
     "data": {
      "text/html": [
       "<div>\n",
       "<style scoped>\n",
       "    .dataframe tbody tr th:only-of-type {\n",
       "        vertical-align: middle;\n",
       "    }\n",
       "\n",
       "    .dataframe tbody tr th {\n",
       "        vertical-align: top;\n",
       "    }\n",
       "\n",
       "    .dataframe thead th {\n",
       "        text-align: right;\n",
       "    }\n",
       "</style>\n",
       "<table border=\"1\" class=\"dataframe\">\n",
       "  <thead>\n",
       "    <tr style=\"text-align: right;\">\n",
       "      <th></th>\n",
       "      <th>CNG</th>\n",
       "      <th>Diesel</th>\n",
       "      <th>Petrol</th>\n",
       "    </tr>\n",
       "  </thead>\n",
       "  <tbody>\n",
       "    <tr>\n",
       "      <th>0</th>\n",
       "      <td>0</td>\n",
       "      <td>1</td>\n",
       "      <td>0</td>\n",
       "    </tr>\n",
       "    <tr>\n",
       "      <th>1</th>\n",
       "      <td>0</td>\n",
       "      <td>1</td>\n",
       "      <td>0</td>\n",
       "    </tr>\n",
       "  </tbody>\n",
       "</table>\n",
       "</div>"
      ],
      "text/plain": [
       "   CNG  Diesel  Petrol\n",
       "0    0       1       0\n",
       "1    0       1       0"
      ]
     },
     "execution_count": 36,
     "metadata": {},
     "output_type": "execute_result"
    }
   ],
   "source": [
    "dummy = pd.get_dummies(df1['Fuel_Type']).astype('int')\n",
    "dummy.head(2)"
   ]
  },
  {
   "cell_type": "code",
   "execution_count": 314,
   "id": "a83cf013",
   "metadata": {
    "collapsed": true
   },
   "outputs": [
    {
     "data": {
      "text/html": [
       "<div>\n",
       "<style scoped>\n",
       "    .dataframe tbody tr th:only-of-type {\n",
       "        vertical-align: middle;\n",
       "    }\n",
       "\n",
       "    .dataframe tbody tr th {\n",
       "        vertical-align: top;\n",
       "    }\n",
       "\n",
       "    .dataframe thead th {\n",
       "        text-align: right;\n",
       "    }\n",
       "</style>\n",
       "<table border=\"1\" class=\"dataframe\">\n",
       "  <thead>\n",
       "    <tr style=\"text-align: right;\">\n",
       "      <th></th>\n",
       "      <th>TOYOTA Corolla</th>\n",
       "      <th>TOYOTA Corolla ! 1.6-16v vvt-i sol airco sedan 4/5-Doors</th>\n",
       "      <th>TOYOTA Corolla 1 6-16v VVT-i Linea Terra Comfort Airco 5drs 4/5-Doors</th>\n",
       "      <th>TOYOTA Corolla 1.3 16V 2/3-Doors</th>\n",
       "      <th>TOYOTA Corolla 1.3 16V HATCHB 2/3-Doors</th>\n",
       "      <th>TOYOTA Corolla 1.3 16V HATCHB G6 2/3-Doors</th>\n",
       "      <th>TOYOTA Corolla 1.3 16V HATCHB LINEA LUNA 2/3-Doors</th>\n",
       "      <th>TOYOTA Corolla 1.3 16V HATCHB LINEA LUNA AUT3 2/3-Doors</th>\n",
       "      <th>TOYOTA Corolla 1.3 16V HATCHB LINEA TERRA 2/3-Doors</th>\n",
       "      <th>TOYOTA Corolla 1.3 16V HATCHB LINEA TERRA AUT3 2/3-Doors</th>\n",
       "      <th>...</th>\n",
       "      <th>TOYOTA Corolla 2.0 D4D 90 3DR TERRA 2/3-Doors</th>\n",
       "      <th>TOYOTA Corolla 2.0 D4D 90 5DR SOL 4/5-Doors</th>\n",
       "      <th>TOYOTA Corolla 2.0 D4D 90 5DR TERRA COMFORT 4/5-Doors</th>\n",
       "      <th>TOYOTA Corolla 2.0 D4D HATCHB TERRA 2/3-Doors</th>\n",
       "      <th>TOYOTA Corolla 2.0 D4D Linea Terra Comfort 4/5-Doors</th>\n",
       "      <th>TOYOTA Corolla 2.0 DSL HATCHB LINEA TERRA 2/3-Doors</th>\n",
       "      <th>TOYOTA Corolla LIFTBACK 1.4 VVT-i LINEA TERRA 4/5-Doors</th>\n",
       "      <th>TOYOTA Corolla LIFTBACK 1.6 Linea terra 4/5-Doors</th>\n",
       "      <th>TOYOTA Corolla VERSO 2.0 D4D LINEA SOL MPV</th>\n",
       "      <th>TOYOTA Corolla VERSO 2.0 D4D SOL (7) BNS MPV</th>\n",
       "    </tr>\n",
       "  </thead>\n",
       "  <tbody>\n",
       "    <tr>\n",
       "      <th>0</th>\n",
       "      <td>0</td>\n",
       "      <td>0</td>\n",
       "      <td>0</td>\n",
       "      <td>0</td>\n",
       "      <td>0</td>\n",
       "      <td>0</td>\n",
       "      <td>0</td>\n",
       "      <td>0</td>\n",
       "      <td>0</td>\n",
       "      <td>0</td>\n",
       "      <td>...</td>\n",
       "      <td>0</td>\n",
       "      <td>0</td>\n",
       "      <td>0</td>\n",
       "      <td>0</td>\n",
       "      <td>0</td>\n",
       "      <td>0</td>\n",
       "      <td>0</td>\n",
       "      <td>0</td>\n",
       "      <td>0</td>\n",
       "      <td>0</td>\n",
       "    </tr>\n",
       "    <tr>\n",
       "      <th>1</th>\n",
       "      <td>0</td>\n",
       "      <td>0</td>\n",
       "      <td>0</td>\n",
       "      <td>0</td>\n",
       "      <td>0</td>\n",
       "      <td>0</td>\n",
       "      <td>0</td>\n",
       "      <td>0</td>\n",
       "      <td>0</td>\n",
       "      <td>0</td>\n",
       "      <td>...</td>\n",
       "      <td>0</td>\n",
       "      <td>0</td>\n",
       "      <td>0</td>\n",
       "      <td>0</td>\n",
       "      <td>0</td>\n",
       "      <td>0</td>\n",
       "      <td>0</td>\n",
       "      <td>0</td>\n",
       "      <td>0</td>\n",
       "      <td>0</td>\n",
       "    </tr>\n",
       "  </tbody>\n",
       "</table>\n",
       "<p>2 rows × 372 columns</p>\n",
       "</div>"
      ],
      "text/plain": [
       "   TOYOTA Corolla   TOYOTA Corolla ! 1.6-16v vvt-i sol airco sedan 4/5-Doors  \\\n",
       "0                0                                                  0          \n",
       "1                0                                                  0          \n",
       "\n",
       "   TOYOTA Corolla 1 6-16v VVT-i Linea Terra Comfort Airco 5drs 4/5-Doors  \\\n",
       "0                                                  0                       \n",
       "1                                                  0                       \n",
       "\n",
       "   TOYOTA Corolla 1.3 16V 2/3-Doors  TOYOTA Corolla 1.3 16V HATCHB 2/3-Doors  \\\n",
       "0                                 0                                        0   \n",
       "1                                 0                                        0   \n",
       "\n",
       "   TOYOTA Corolla 1.3 16V HATCHB G6 2/3-Doors  \\\n",
       "0                                           0   \n",
       "1                                           0   \n",
       "\n",
       "   TOYOTA Corolla 1.3 16V HATCHB LINEA LUNA 2/3-Doors  \\\n",
       "0                                                  0    \n",
       "1                                                  0    \n",
       "\n",
       "   TOYOTA Corolla 1.3 16V HATCHB LINEA LUNA AUT3 2/3-Doors  \\\n",
       "0                                                  0         \n",
       "1                                                  0         \n",
       "\n",
       "   TOYOTA Corolla 1.3 16V HATCHB LINEA TERRA 2/3-Doors  \\\n",
       "0                                                  0     \n",
       "1                                                  0     \n",
       "\n",
       "   TOYOTA Corolla 1.3 16V HATCHB LINEA TERRA AUT3 2/3-Doors  ...  \\\n",
       "0                                                  0         ...   \n",
       "1                                                  0         ...   \n",
       "\n",
       "    TOYOTA Corolla 2.0 D4D 90 3DR TERRA 2/3-Doors  \\\n",
       "0                                               0   \n",
       "1                                               0   \n",
       "\n",
       "    TOYOTA Corolla 2.0 D4D 90 5DR SOL 4/5-Doors  \\\n",
       "0                                             0   \n",
       "1                                             0   \n",
       "\n",
       "    TOYOTA Corolla 2.0 D4D 90 5DR TERRA COMFORT 4/5-Doors  \\\n",
       "0                                                  0        \n",
       "1                                                  0        \n",
       "\n",
       "    TOYOTA Corolla 2.0 D4D HATCHB TERRA 2/3-Doors  \\\n",
       "0                                               0   \n",
       "1                                               0   \n",
       "\n",
       "    TOYOTA Corolla 2.0 D4D Linea Terra Comfort 4/5-Doors  \\\n",
       "0                                                  0       \n",
       "1                                                  0       \n",
       "\n",
       "    TOYOTA Corolla 2.0 DSL HATCHB LINEA TERRA 2/3-Doors  \\\n",
       "0                                                  0      \n",
       "1                                                  0      \n",
       "\n",
       "    TOYOTA Corolla LIFTBACK 1.4 VVT-i LINEA TERRA 4/5-Doors  \\\n",
       "0                                                  0          \n",
       "1                                                  0          \n",
       "\n",
       "    TOYOTA Corolla LIFTBACK 1.6 Linea terra 4/5-Doors  \\\n",
       "0                                                  0    \n",
       "1                                                  0    \n",
       "\n",
       "    TOYOTA Corolla VERSO 2.0 D4D LINEA SOL MPV  \\\n",
       "0                                            0   \n",
       "1                                            0   \n",
       "\n",
       "    TOYOTA Corolla VERSO 2.0 D4D SOL (7) BNS MPV  \n",
       "0                                              0  \n",
       "1                                              0  \n",
       "\n",
       "[2 rows x 372 columns]"
      ]
     },
     "execution_count": 314,
     "metadata": {},
     "output_type": "execute_result"
    }
   ],
   "source": [
    "mod = pd.get_dummies(df1['Model']).astype('int')\n",
    "mod.head(2)"
   ]
  },
  {
   "cell_type": "code",
   "execution_count": 336,
   "id": "f068d5c3",
   "metadata": {},
   "outputs": [
    {
     "data": {
      "text/html": [
       "<div>\n",
       "<style scoped>\n",
       "    .dataframe tbody tr th:only-of-type {\n",
       "        vertical-align: middle;\n",
       "    }\n",
       "\n",
       "    .dataframe tbody tr th {\n",
       "        vertical-align: top;\n",
       "    }\n",
       "\n",
       "    .dataframe thead th {\n",
       "        text-align: right;\n",
       "    }\n",
       "</style>\n",
       "<table border=\"1\" class=\"dataframe\">\n",
       "  <thead>\n",
       "    <tr style=\"text-align: right;\">\n",
       "      <th></th>\n",
       "      <th>Mfg_Month_Mfg_Year</th>\n",
       "      <th>Id</th>\n",
       "      <th>Model</th>\n",
       "      <th>Price</th>\n",
       "      <th>Age_08_04</th>\n",
       "      <th>KM</th>\n",
       "      <th>Fuel_Type</th>\n",
       "      <th>HP</th>\n",
       "      <th>Met_Color</th>\n",
       "      <th>Color</th>\n",
       "      <th>...</th>\n",
       "      <th>Radio</th>\n",
       "      <th>Mistlamps</th>\n",
       "      <th>Sport_Model</th>\n",
       "      <th>Backseat_Divider</th>\n",
       "      <th>Metallic_Rim</th>\n",
       "      <th>Radio_cassette</th>\n",
       "      <th>Tow_Bar</th>\n",
       "      <th>CNG</th>\n",
       "      <th>Diesel</th>\n",
       "      <th>Petrol</th>\n",
       "    </tr>\n",
       "  </thead>\n",
       "  <tbody>\n",
       "    <tr>\n",
       "      <th>0</th>\n",
       "      <td>2002-10-01</td>\n",
       "      <td>1</td>\n",
       "      <td>TOYOTA Corolla 2.0 D4D HATCHB TERRA 2/3-Doors</td>\n",
       "      <td>13500</td>\n",
       "      <td>23</td>\n",
       "      <td>46986</td>\n",
       "      <td>Diesel</td>\n",
       "      <td>90</td>\n",
       "      <td>1</td>\n",
       "      <td>Blue</td>\n",
       "      <td>...</td>\n",
       "      <td>0</td>\n",
       "      <td>0</td>\n",
       "      <td>0</td>\n",
       "      <td>1</td>\n",
       "      <td>0</td>\n",
       "      <td>0</td>\n",
       "      <td>0</td>\n",
       "      <td>0</td>\n",
       "      <td>1</td>\n",
       "      <td>0</td>\n",
       "    </tr>\n",
       "    <tr>\n",
       "      <th>1</th>\n",
       "      <td>2002-10-01</td>\n",
       "      <td>2</td>\n",
       "      <td>TOYOTA Corolla 2.0 D4D HATCHB TERRA 2/3-Doors</td>\n",
       "      <td>13750</td>\n",
       "      <td>23</td>\n",
       "      <td>72937</td>\n",
       "      <td>Diesel</td>\n",
       "      <td>90</td>\n",
       "      <td>1</td>\n",
       "      <td>Silver</td>\n",
       "      <td>...</td>\n",
       "      <td>0</td>\n",
       "      <td>0</td>\n",
       "      <td>0</td>\n",
       "      <td>1</td>\n",
       "      <td>0</td>\n",
       "      <td>0</td>\n",
       "      <td>0</td>\n",
       "      <td>0</td>\n",
       "      <td>1</td>\n",
       "      <td>0</td>\n",
       "    </tr>\n",
       "  </tbody>\n",
       "</table>\n",
       "<p>2 rows × 40 columns</p>\n",
       "</div>"
      ],
      "text/plain": [
       "  Mfg_Month_Mfg_Year  Id                                          Model  \\\n",
       "0         2002-10-01   1  TOYOTA Corolla 2.0 D4D HATCHB TERRA 2/3-Doors   \n",
       "1         2002-10-01   2  TOYOTA Corolla 2.0 D4D HATCHB TERRA 2/3-Doors   \n",
       "\n",
       "   Price  Age_08_04     KM Fuel_Type  HP  Met_Color   Color  ...  Radio  \\\n",
       "0  13500         23  46986    Diesel  90          1    Blue  ...      0   \n",
       "1  13750         23  72937    Diesel  90          1  Silver  ...      0   \n",
       "\n",
       "   Mistlamps  Sport_Model  Backseat_Divider  Metallic_Rim  Radio_cassette  \\\n",
       "0          0            0                 1             0               0   \n",
       "1          0            0                 1             0               0   \n",
       "\n",
       "   Tow_Bar  CNG  Diesel  Petrol  \n",
       "0        0    0       1       0  \n",
       "1        0    0       1       0  \n",
       "\n",
       "[2 rows x 40 columns]"
      ]
     },
     "execution_count": 336,
     "metadata": {},
     "output_type": "execute_result"
    }
   ],
   "source": [
    "final_data = pd.concat([df1,dummy], axis=1)\n",
    "final_data.head(2)"
   ]
  },
  {
   "cell_type": "code",
   "execution_count": 339,
   "id": "02dd7255",
   "metadata": {},
   "outputs": [
    {
     "data": {
      "text/html": [
       "<div>\n",
       "<style scoped>\n",
       "    .dataframe tbody tr th:only-of-type {\n",
       "        vertical-align: middle;\n",
       "    }\n",
       "\n",
       "    .dataframe tbody tr th {\n",
       "        vertical-align: top;\n",
       "    }\n",
       "\n",
       "    .dataframe thead th {\n",
       "        text-align: right;\n",
       "    }\n",
       "</style>\n",
       "<table border=\"1\" class=\"dataframe\">\n",
       "  <thead>\n",
       "    <tr style=\"text-align: right;\">\n",
       "      <th></th>\n",
       "      <th>Mfg_Month_Mfg_Year</th>\n",
       "      <th>Id</th>\n",
       "      <th>Model</th>\n",
       "      <th>Price</th>\n",
       "      <th>Age_08_04</th>\n",
       "      <th>KM</th>\n",
       "      <th>Fuel_Type</th>\n",
       "      <th>HP</th>\n",
       "      <th>Met_Color</th>\n",
       "      <th>Color</th>\n",
       "      <th>...</th>\n",
       "      <th>TOYOTA Corolla 2.0 D4D 90 3DR TERRA 2/3-Doors</th>\n",
       "      <th>TOYOTA Corolla 2.0 D4D 90 5DR SOL 4/5-Doors</th>\n",
       "      <th>TOYOTA Corolla 2.0 D4D 90 5DR TERRA COMFORT 4/5-Doors</th>\n",
       "      <th>TOYOTA Corolla 2.0 D4D HATCHB TERRA 2/3-Doors</th>\n",
       "      <th>TOYOTA Corolla 2.0 D4D Linea Terra Comfort 4/5-Doors</th>\n",
       "      <th>TOYOTA Corolla 2.0 DSL HATCHB LINEA TERRA 2/3-Doors</th>\n",
       "      <th>TOYOTA Corolla LIFTBACK 1.4 VVT-i LINEA TERRA 4/5-Doors</th>\n",
       "      <th>TOYOTA Corolla LIFTBACK 1.6 Linea terra 4/5-Doors</th>\n",
       "      <th>TOYOTA Corolla VERSO 2.0 D4D LINEA SOL MPV</th>\n",
       "      <th>TOYOTA Corolla VERSO 2.0 D4D SOL (7) BNS MPV</th>\n",
       "    </tr>\n",
       "  </thead>\n",
       "  <tbody>\n",
       "    <tr>\n",
       "      <th>0</th>\n",
       "      <td>2002-10-01</td>\n",
       "      <td>1</td>\n",
       "      <td>TOYOTA Corolla 2.0 D4D HATCHB TERRA 2/3-Doors</td>\n",
       "      <td>13500</td>\n",
       "      <td>23</td>\n",
       "      <td>46986</td>\n",
       "      <td>Diesel</td>\n",
       "      <td>90</td>\n",
       "      <td>1</td>\n",
       "      <td>Blue</td>\n",
       "      <td>...</td>\n",
       "      <td>0</td>\n",
       "      <td>0</td>\n",
       "      <td>0</td>\n",
       "      <td>0</td>\n",
       "      <td>0</td>\n",
       "      <td>0</td>\n",
       "      <td>0</td>\n",
       "      <td>0</td>\n",
       "      <td>0</td>\n",
       "      <td>0</td>\n",
       "    </tr>\n",
       "  </tbody>\n",
       "</table>\n",
       "<p>1 rows × 1156 columns</p>\n",
       "</div>"
      ],
      "text/plain": [
       "  Mfg_Month_Mfg_Year  Id                                          Model  \\\n",
       "0         2002-10-01   1  TOYOTA Corolla 2.0 D4D HATCHB TERRA 2/3-Doors   \n",
       "\n",
       "   Price  Age_08_04     KM Fuel_Type  HP  Met_Color Color  ...  \\\n",
       "0  13500         23  46986    Diesel  90          1  Blue  ...   \n",
       "\n",
       "    TOYOTA Corolla 2.0 D4D 90 3DR TERRA 2/3-Doors  \\\n",
       "0                                               0   \n",
       "\n",
       "    TOYOTA Corolla 2.0 D4D 90 5DR SOL 4/5-Doors  \\\n",
       "0                                             0   \n",
       "\n",
       "    TOYOTA Corolla 2.0 D4D 90 5DR TERRA COMFORT 4/5-Doors  \\\n",
       "0                                                  0        \n",
       "\n",
       "    TOYOTA Corolla 2.0 D4D HATCHB TERRA 2/3-Doors  \\\n",
       "0                                               0   \n",
       "\n",
       "    TOYOTA Corolla 2.0 D4D Linea Terra Comfort 4/5-Doors  \\\n",
       "0                                                  0       \n",
       "\n",
       "    TOYOTA Corolla 2.0 DSL HATCHB LINEA TERRA 2/3-Doors  \\\n",
       "0                                                  0      \n",
       "\n",
       "    TOYOTA Corolla LIFTBACK 1.4 VVT-i LINEA TERRA 4/5-Doors  \\\n",
       "0                                                  0          \n",
       "\n",
       "    TOYOTA Corolla LIFTBACK 1.6 Linea terra 4/5-Doors  \\\n",
       "0                                                  0    \n",
       "\n",
       "    TOYOTA Corolla VERSO 2.0 D4D LINEA SOL MPV  \\\n",
       "0                                            0   \n",
       "\n",
       "    TOYOTA Corolla VERSO 2.0 D4D SOL (7) BNS MPV  \n",
       "0                                              0  \n",
       "\n",
       "[1 rows x 1156 columns]"
      ]
     },
     "execution_count": 339,
     "metadata": {},
     "output_type": "execute_result"
    }
   ],
   "source": [
    "final_data = pd.concat([final_data,mod], axis=1)\n",
    "final_data.head(1)"
   ]
  },
  {
   "cell_type": "code",
   "execution_count": 334,
   "id": "ae3fbee7",
   "metadata": {},
   "outputs": [
    {
     "data": {
      "text/plain": [
       "Index(['Mfg_Month_Mfg_Year', 'Id', 'Model', 'Price', 'Age_08_04', 'KM',\n",
       "       'Fuel_Type', 'HP', 'Met_Color', 'Color',\n",
       "       ...\n",
       "       ' TOYOTA Corolla 2.0 D4D 90 3DR TERRA 2/3-Doors',\n",
       "       ' TOYOTA Corolla 2.0 D4D 90 5DR SOL 4/5-Doors',\n",
       "       ' TOYOTA Corolla 2.0 D4D 90 5DR TERRA COMFORT 4/5-Doors',\n",
       "       ' TOYOTA Corolla 2.0 D4D HATCHB TERRA 2/3-Doors',\n",
       "       ' TOYOTA Corolla 2.0 D4D Linea Terra Comfort 4/5-Doors',\n",
       "       ' TOYOTA Corolla 2.0 DSL HATCHB LINEA TERRA 2/3-Doors',\n",
       "       ' TOYOTA Corolla LIFTBACK 1.4 VVT-i LINEA TERRA 4/5-Doors',\n",
       "       ' TOYOTA Corolla LIFTBACK 1.6 Linea terra 4/5-Doors',\n",
       "       ' TOYOTA Corolla VERSO 2.0 D4D LINEA SOL MPV',\n",
       "       ' TOYOTA Corolla VERSO 2.0 D4D SOL (7) BNS MPV'],\n",
       "      dtype='object', length=412)"
      ]
     },
     "execution_count": 334,
     "metadata": {},
     "output_type": "execute_result"
    }
   ],
   "source": [
    "final_data.columns"
   ]
  },
  {
   "cell_type": "code",
   "execution_count": 347,
   "id": "ffd4e1aa",
   "metadata": {},
   "outputs": [],
   "source": [
    "X=final_data[['HP','cc','Backseat_Divider','Quarterly_Tax','CNG', 'Diesel', 'Petrol', 'ABS', 'Airbag_1', 'Airbag_2', 'Airco', 'Automatic_airco', 'Automatic', 'Central_Lock']]"
   ]
  },
  {
   "cell_type": "code",
   "execution_count": 348,
   "id": "69799e06",
   "metadata": {},
   "outputs": [
    {
     "data": {
      "text/html": [
       "<div>\n",
       "<style scoped>\n",
       "    .dataframe tbody tr th:only-of-type {\n",
       "        vertical-align: middle;\n",
       "    }\n",
       "\n",
       "    .dataframe tbody tr th {\n",
       "        vertical-align: top;\n",
       "    }\n",
       "\n",
       "    .dataframe thead th {\n",
       "        text-align: right;\n",
       "    }\n",
       "</style>\n",
       "<table border=\"1\" class=\"dataframe\">\n",
       "  <thead>\n",
       "    <tr style=\"text-align: right;\">\n",
       "      <th></th>\n",
       "      <th>HP</th>\n",
       "      <th>cc</th>\n",
       "      <th>Backseat_Divider</th>\n",
       "      <th>Quarterly_Tax</th>\n",
       "      <th>CNG</th>\n",
       "      <th>Diesel</th>\n",
       "      <th>Petrol</th>\n",
       "      <th>ABS</th>\n",
       "      <th>Airbag_1</th>\n",
       "      <th>Airbag_2</th>\n",
       "      <th>Airco</th>\n",
       "      <th>Automatic_airco</th>\n",
       "      <th>Automatic</th>\n",
       "      <th>Central_Lock</th>\n",
       "    </tr>\n",
       "  </thead>\n",
       "  <tbody>\n",
       "    <tr>\n",
       "      <th>0</th>\n",
       "      <td>90</td>\n",
       "      <td>2000</td>\n",
       "      <td>1</td>\n",
       "      <td>210</td>\n",
       "      <td>0</td>\n",
       "      <td>1</td>\n",
       "      <td>0</td>\n",
       "      <td>1</td>\n",
       "      <td>1</td>\n",
       "      <td>1</td>\n",
       "      <td>0</td>\n",
       "      <td>0</td>\n",
       "      <td>0</td>\n",
       "      <td>1</td>\n",
       "    </tr>\n",
       "    <tr>\n",
       "      <th>1</th>\n",
       "      <td>90</td>\n",
       "      <td>2000</td>\n",
       "      <td>1</td>\n",
       "      <td>210</td>\n",
       "      <td>0</td>\n",
       "      <td>1</td>\n",
       "      <td>0</td>\n",
       "      <td>1</td>\n",
       "      <td>1</td>\n",
       "      <td>1</td>\n",
       "      <td>1</td>\n",
       "      <td>0</td>\n",
       "      <td>0</td>\n",
       "      <td>1</td>\n",
       "    </tr>\n",
       "  </tbody>\n",
       "</table>\n",
       "</div>"
      ],
      "text/plain": [
       "   HP    cc  Backseat_Divider  Quarterly_Tax  CNG  Diesel  Petrol  ABS  \\\n",
       "0  90  2000                 1            210    0       1       0    1   \n",
       "1  90  2000                 1            210    0       1       0    1   \n",
       "\n",
       "   Airbag_1  Airbag_2  Airco  Automatic_airco  Automatic  Central_Lock  \n",
       "0         1         1      0                0          0             1  \n",
       "1         1         1      1                0          0             1  "
      ]
     },
     "execution_count": 348,
     "metadata": {},
     "output_type": "execute_result"
    }
   ],
   "source": [
    "X.head(2)"
   ]
  },
  {
   "cell_type": "code",
   "execution_count": 349,
   "id": "e78ff638",
   "metadata": {},
   "outputs": [],
   "source": [
    "y=final_data['Price']"
   ]
  },
  {
   "cell_type": "code",
   "execution_count": 350,
   "id": "f8fcb37b",
   "metadata": {},
   "outputs": [],
   "source": [
    "from sklearn.model_selection import train_test_split"
   ]
  },
  {
   "cell_type": "code",
   "execution_count": 351,
   "id": "8e55a45f",
   "metadata": {},
   "outputs": [],
   "source": [
    "X_train, X_test, y_train, y_test = train_test_split(X,y, train_size=0.85,random_state=5612)"
   ]
  },
  {
   "cell_type": "code",
   "execution_count": 352,
   "id": "8d73ad00",
   "metadata": {},
   "outputs": [
    {
     "data": {
      "text/plain": [
       "(1436, 1156)"
      ]
     },
     "execution_count": 352,
     "metadata": {},
     "output_type": "execute_result"
    }
   ],
   "source": [
    "final_data.shape"
   ]
  },
  {
   "cell_type": "code",
   "execution_count": 353,
   "id": "b06c25ef",
   "metadata": {},
   "outputs": [
    {
     "data": {
      "text/plain": [
       "(1220, 14)"
      ]
     },
     "execution_count": 353,
     "metadata": {},
     "output_type": "execute_result"
    }
   ],
   "source": [
    "X_train.shape"
   ]
  },
  {
   "cell_type": "code",
   "execution_count": 354,
   "id": "b8171708",
   "metadata": {},
   "outputs": [
    {
     "data": {
      "text/plain": [
       "(1220,)"
      ]
     },
     "execution_count": 354,
     "metadata": {},
     "output_type": "execute_result"
    }
   ],
   "source": [
    "y_train.shape"
   ]
  },
  {
   "cell_type": "markdown",
   "id": "c0312658",
   "metadata": {},
   "source": [
    "# Model fitting"
   ]
  },
  {
   "cell_type": "code",
   "execution_count": 355,
   "id": "c6b1b5aa",
   "metadata": {},
   "outputs": [],
   "source": [
    "from sklearn.linear_model import LinearRegression "
   ]
  },
  {
   "cell_type": "code",
   "execution_count": 356,
   "id": "c03b36d8",
   "metadata": {},
   "outputs": [],
   "source": [
    "model= LinearRegression()\n",
    "model_train=model.fit(X_train, y_train)"
   ]
  },
  {
   "cell_type": "code",
   "execution_count": 357,
   "id": "9a21b01f",
   "metadata": {},
   "outputs": [],
   "source": [
    "pred1=model_train.predict(X_test)"
   ]
  },
  {
   "cell_type": "code",
   "execution_count": 358,
   "id": "3f291c35",
   "metadata": {
    "collapsed": true
   },
   "outputs": [
    {
     "data": {
      "text/plain": [
       "array([ 8690.08303607, 11097.1114176 ,  6016.78532212, 10921.12954474,\n",
       "        9997.12418281, 10768.57929619, 10921.12954474, 10602.46384579,\n",
       "       12730.60255952,  8690.08303607,  9427.04512245, 11999.41681655,\n",
       "       10579.70689709, 13206.99961829, 11571.41342823,  8989.45019856,\n",
       "       18804.37429973, 11999.41681655, 10991.7428323 , 11571.41342823,\n",
       "       11571.41342823, 11571.41342823, 18804.37429973, 18804.37429973,\n",
       "       11999.41681655,  7521.88394024, 11999.41681655, 10283.46200659,\n",
       "       11999.41681655,  6875.37828111,  8690.08303607, 11999.41681655,\n",
       "       10493.12615642,  7504.03987814, 12492.08770682, 11999.41681655,\n",
       "       18804.37429973, 11418.7133216 , 11999.41681655,  7444.47577013,\n",
       "       11418.7133216 , 10833.09694005, 11999.41681655, 10087.03600683,\n",
       "       11571.41342823, 11602.6728341 , 10173.10605567, 10087.03600683,\n",
       "       12879.09568053, 10584.61978369,  9997.12418281, 10690.10101907,\n",
       "       10990.70993328,  7768.05435569, 10263.01787969, 10360.70026769,\n",
       "       21641.58194429, 11999.41681655, 11999.41681655, 10921.12954474,\n",
       "       10263.01787969,  8690.08303607, 10087.03600683, 10833.09694005,\n",
       "        9659.03261851,  8690.08303607, 11413.800435  , 12492.08770682,\n",
       "       10087.03600683, 11418.7133216 ,  9743.86455357, 11418.7133216 ,\n",
       "       18804.37429973,  6584.69264662,  9611.81374725,  9997.12418281,\n",
       "       13206.99961829,  8690.08303607, 10096.68579014, 11999.41681655,\n",
       "       11999.41681655, 11165.32327865,  9416.42068786, 11165.32327865,\n",
       "        6446.02682423,  9078.32912356,  8690.08303607, 10340.42604979,\n",
       "        9659.03261851, 10437.12053322,  9078.32912356, 11999.41681655,\n",
       "       11999.41681655,  9675.52227881,  8690.08303607,  8260.72524595,\n",
       "       10602.46384579, 12492.08770682,  9228.43671461,  7368.05550461,\n",
       "        8841.4287409 ,  8951.82286287, 11999.41681655, 11602.6728341 ,\n",
       "        8400.75111712,  8084.74337309, 10991.7428323 , 10087.03600683,\n",
       "       12070.03010412,  9457.56274747, 10338.78565364, 11999.41681655,\n",
       "       10087.03600683, 10248.87382963, 10690.10101907,  9446.76840387,\n",
       "       10584.61978369,  9690.29202438, 10096.68579014,  9018.39851833,\n",
       "       10602.46384579,  9506.33251188, 10280.86194178, 10602.46384579,\n",
       "        8084.74337309, 10087.03600683, 10737.31989032,  9446.76840387,\n",
       "        8918.836911  ,  6687.79040233, 11999.41681655, 11999.41681655,\n",
       "        8690.08303607,  7368.05550461, 10360.70026769, 11735.40233901,\n",
       "       11524.19455698, 11165.32327865,  9506.33251188, 11999.41681655,\n",
       "        6874.56661878, 11418.7133216 , 10602.46384579,  8202.14904251,\n",
       "       11999.41681655,  9997.12418281,  7138.58109632,  8690.08303607,\n",
       "       18804.37429973, 16901.64327332,  7911.32206975, 13206.99961829,\n",
       "       11571.41342823, 18804.37429973, 11999.41681655, 22448.534579  ,\n",
       "        6016.78532212,  9094.81878386,  9690.29202438,  9506.33251188,\n",
       "        9416.42068786, 18804.37429973,  7586.47832286, 10016.84746424,\n",
       "       11571.41342823,  7625.29526667,  9242.31803434,  8647.73321966,\n",
       "       11571.41342823, 11165.32327865, 18804.37429973, 10273.81222328,\n",
       "        9018.39851833, 11418.7133216 ,  7687.99939064,  9506.33251188,\n",
       "        8647.73321966,  6687.79040233, 10446.97739219, 11999.41681655,\n",
       "        9745.10266735, 11999.41681655, 11999.41681655, 10386.01137586,\n",
       "        9078.32912356, 11494.48109556, 11418.7133216 ,  4053.11457788,\n",
       "       10991.7428323 , 10087.03600683, 11999.41681655,  7521.88394024,\n",
       "       11999.41681655,  9524.17657397,  9524.17657397, 10768.57929619,\n",
       "        8358.40763395, 10263.01787969, 10173.10605567, 10087.03600683,\n",
       "        4053.11457788, 12492.08770682,  9611.81374725,  9094.81878386,\n",
       "       10584.61978369, 11999.41681655, 11999.41681655,  7667.12833585,\n",
       "       11571.41342823,  6951.80487987,  9958.00798753, 10921.12954474,\n",
       "        9416.42068786, 10921.12954474, 11602.6728341 ,  7521.88394024])"
      ]
     },
     "execution_count": 358,
     "metadata": {},
     "output_type": "execute_result"
    }
   ],
   "source": [
    "pred1"
   ]
  },
  {
   "cell_type": "code",
   "execution_count": 359,
   "id": "ce1408bc",
   "metadata": {},
   "outputs": [],
   "source": [
    "p=pd.DataFrame(pred1, columns=['Pred_price'])"
   ]
  },
  {
   "cell_type": "code",
   "execution_count": 360,
   "id": "10a65c09",
   "metadata": {},
   "outputs": [],
   "source": [
    "p['Actual']=y_test.values"
   ]
  },
  {
   "cell_type": "markdown",
   "id": "f2a55aca",
   "metadata": {},
   "source": [
    "# Score and error¶"
   ]
  },
  {
   "cell_type": "code",
   "execution_count": 361,
   "id": "12151d93",
   "metadata": {},
   "outputs": [],
   "source": [
    "from sklearn.metrics import r2_score, mean_squared_error, mean_absolute_error\n",
    "from math import sqrt"
   ]
  },
  {
   "cell_type": "code",
   "execution_count": 362,
   "id": "e920bc77",
   "metadata": {},
   "outputs": [
    {
     "data": {
      "text/plain": [
       "2344"
      ]
     },
     "execution_count": 362,
     "metadata": {},
     "output_type": "execute_result"
    }
   ],
   "source": [
    "round(sqrt(mean_squared_error(p['Actual'], p['Pred_price'])))"
   ]
  },
  {
   "cell_type": "code",
   "execution_count": 331,
   "id": "94435073",
   "metadata": {},
   "outputs": [
    {
     "name": "stdout",
     "output_type": "stream",
     "text": [
      "Strangth of the model = 52\n"
     ]
    }
   ],
   "source": [
    "str=round(r2_score(p['Actual'], p['Pred_price'])*100)\n",
    "print('Strangth of the model =',str )"
   ]
  },
  {
   "cell_type": "code",
   "execution_count": 332,
   "id": "10cd2743",
   "metadata": {},
   "outputs": [
    {
     "data": {
      "text/plain": [
       "1764.4836907555664"
      ]
     },
     "execution_count": 332,
     "metadata": {},
     "output_type": "execute_result"
    }
   ],
   "source": [
    "mean_absolute_error(p['Actual'], p['Pred_price'])"
   ]
  },
  {
   "cell_type": "markdown",
   "id": "5d7b1a66",
   "metadata": {},
   "source": [
    "# Save the model1"
   ]
  },
  {
   "cell_type": "code",
   "execution_count": 433,
   "id": "422e2f94",
   "metadata": {},
   "outputs": [],
   "source": [
    "import joblib"
   ]
  },
  {
   "cell_type": "code",
   "execution_count": 434,
   "id": "e80a6823",
   "metadata": {},
   "outputs": [
    {
     "data": {
      "text/plain": [
       "['pred_price.sav']"
      ]
     },
     "execution_count": 434,
     "metadata": {},
     "output_type": "execute_result"
    }
   ],
   "source": [
    "pred_price = 'pred_price.sav'\n",
    "joblib.dump(model_train,pred_price)"
   ]
  },
  {
   "cell_type": "code",
   "execution_count": 439,
   "id": "a1b1ce79",
   "metadata": {},
   "outputs": [
    {
     "name": "stdout",
     "output_type": "stream",
     "text": [
      "LinearRegression()\n"
     ]
    }
   ],
   "source": [
    "loaded_model_1 = joblib.load(pred_price)\n",
    "print(loaded_model)"
   ]
  },
  {
   "cell_type": "markdown",
   "id": "133463d3",
   "metadata": {},
   "source": [
    "# Model - 2\n"
   ]
  },
  {
   "cell_type": "code",
   "execution_count": 363,
   "id": "deb8af1a",
   "metadata": {},
   "outputs": [],
   "source": [
    "df2=final_data.copy()"
   ]
  },
  {
   "cell_type": "code",
   "execution_count": 364,
   "id": "d14805a4",
   "metadata": {},
   "outputs": [
    {
     "data": {
      "text/plain": [
       "Index(['Mfg_Month_Mfg_Year', 'Id', 'Model', 'Price', 'Age_08_04', 'KM',\n",
       "       'Fuel_Type', 'HP', 'Met_Color', 'Color',\n",
       "       ...\n",
       "       ' TOYOTA Corolla 2.0 D4D 90 3DR TERRA 2/3-Doors',\n",
       "       ' TOYOTA Corolla 2.0 D4D 90 5DR SOL 4/5-Doors',\n",
       "       ' TOYOTA Corolla 2.0 D4D 90 5DR TERRA COMFORT 4/5-Doors',\n",
       "       ' TOYOTA Corolla 2.0 D4D HATCHB TERRA 2/3-Doors',\n",
       "       ' TOYOTA Corolla 2.0 D4D Linea Terra Comfort 4/5-Doors',\n",
       "       ' TOYOTA Corolla 2.0 DSL HATCHB LINEA TERRA 2/3-Doors',\n",
       "       ' TOYOTA Corolla LIFTBACK 1.4 VVT-i LINEA TERRA 4/5-Doors',\n",
       "       ' TOYOTA Corolla LIFTBACK 1.6 Linea terra 4/5-Doors',\n",
       "       ' TOYOTA Corolla VERSO 2.0 D4D LINEA SOL MPV',\n",
       "       ' TOYOTA Corolla VERSO 2.0 D4D SOL (7) BNS MPV'],\n",
       "      dtype='object', length=1156)"
      ]
     },
     "execution_count": 364,
     "metadata": {},
     "output_type": "execute_result"
    }
   ],
   "source": [
    "df2.columns"
   ]
  },
  {
   "cell_type": "code",
   "execution_count": 418,
   "id": "b58f22f7",
   "metadata": {},
   "outputs": [],
   "source": [
    "X = df2[['Sport_Model','Age_08_04','CNG', 'HP','Diesel', 'Petrol', 'Met_Color','ABS', 'Airbag_1', 'Airbag_2','KM', 'Cylinders']]"
   ]
  },
  {
   "cell_type": "code",
   "execution_count": 419,
   "id": "5fa11919",
   "metadata": {},
   "outputs": [
    {
     "data": {
      "text/html": [
       "<div>\n",
       "<style scoped>\n",
       "    .dataframe tbody tr th:only-of-type {\n",
       "        vertical-align: middle;\n",
       "    }\n",
       "\n",
       "    .dataframe tbody tr th {\n",
       "        vertical-align: top;\n",
       "    }\n",
       "\n",
       "    .dataframe thead th {\n",
       "        text-align: right;\n",
       "    }\n",
       "</style>\n",
       "<table border=\"1\" class=\"dataframe\">\n",
       "  <thead>\n",
       "    <tr style=\"text-align: right;\">\n",
       "      <th></th>\n",
       "      <th>Sport_Model</th>\n",
       "      <th>Age_08_04</th>\n",
       "      <th>CNG</th>\n",
       "      <th>HP</th>\n",
       "      <th>Diesel</th>\n",
       "      <th>Petrol</th>\n",
       "      <th>Met_Color</th>\n",
       "      <th>ABS</th>\n",
       "      <th>Airbag_1</th>\n",
       "      <th>Airbag_2</th>\n",
       "      <th>KM</th>\n",
       "      <th>Cylinders</th>\n",
       "    </tr>\n",
       "  </thead>\n",
       "  <tbody>\n",
       "    <tr>\n",
       "      <th>0</th>\n",
       "      <td>0</td>\n",
       "      <td>23</td>\n",
       "      <td>0</td>\n",
       "      <td>90</td>\n",
       "      <td>1</td>\n",
       "      <td>0</td>\n",
       "      <td>1</td>\n",
       "      <td>1</td>\n",
       "      <td>1</td>\n",
       "      <td>1</td>\n",
       "      <td>46986</td>\n",
       "      <td>4</td>\n",
       "    </tr>\n",
       "    <tr>\n",
       "      <th>1</th>\n",
       "      <td>0</td>\n",
       "      <td>23</td>\n",
       "      <td>0</td>\n",
       "      <td>90</td>\n",
       "      <td>1</td>\n",
       "      <td>0</td>\n",
       "      <td>1</td>\n",
       "      <td>1</td>\n",
       "      <td>1</td>\n",
       "      <td>1</td>\n",
       "      <td>72937</td>\n",
       "      <td>4</td>\n",
       "    </tr>\n",
       "  </tbody>\n",
       "</table>\n",
       "</div>"
      ],
      "text/plain": [
       "   Sport_Model  Age_08_04  CNG  HP  Diesel  Petrol  Met_Color  ABS  Airbag_1  \\\n",
       "0            0         23    0  90       1       0          1    1         1   \n",
       "1            0         23    0  90       1       0          1    1         1   \n",
       "\n",
       "   Airbag_2     KM  Cylinders  \n",
       "0         1  46986          4  \n",
       "1         1  72937          4  "
      ]
     },
     "execution_count": 419,
     "metadata": {},
     "output_type": "execute_result"
    }
   ],
   "source": [
    "X.head(2)"
   ]
  },
  {
   "cell_type": "code",
   "execution_count": 420,
   "id": "0bd8e06f",
   "metadata": {},
   "outputs": [],
   "source": [
    "y=df2['Price']"
   ]
  },
  {
   "cell_type": "code",
   "execution_count": 421,
   "id": "cf9c1fe6",
   "metadata": {},
   "outputs": [],
   "source": [
    "from sklearn.model_selection import train_test_split"
   ]
  },
  {
   "cell_type": "code",
   "execution_count": 422,
   "id": "f04488a1",
   "metadata": {},
   "outputs": [],
   "source": [
    "X_train, X_test, y_train, y_test = train_test_split(X,y, train_size=0.8,random_state=5612)"
   ]
  },
  {
   "cell_type": "markdown",
   "id": "f08fa3b8",
   "metadata": {},
   "source": [
    "# Model Fitting"
   ]
  },
  {
   "cell_type": "code",
   "execution_count": 423,
   "id": "f23d5aeb",
   "metadata": {},
   "outputs": [],
   "source": [
    "from sklearn.linear_model import LinearRegression "
   ]
  },
  {
   "cell_type": "code",
   "execution_count": 424,
   "id": "7e0b938d",
   "metadata": {},
   "outputs": [],
   "source": [
    "model= LinearRegression()\n",
    "model_train=model.fit(X_train, y_train)"
   ]
  },
  {
   "cell_type": "code",
   "execution_count": 425,
   "id": "05726bcc",
   "metadata": {},
   "outputs": [],
   "source": [
    "pred=model_train.predict(X_test)"
   ]
  },
  {
   "cell_type": "code",
   "execution_count": 426,
   "id": "aa8f238f",
   "metadata": {
    "collapsed": true
   },
   "outputs": [
    {
     "data": {
      "text/plain": [
       "array([ 7554.96488029,  8700.55061699,  8623.78218717,  8251.94199087,\n",
       "        6582.91692471,  6108.14528521, 10128.57294313,  9028.66426716,\n",
       "       18990.22191513,  9624.46234226,  9372.3232216 , 10702.26047656,\n",
       "       13048.50873051, 16349.1349743 , 15419.88751525,  8472.3440416 ,\n",
       "       15470.14757703, 11639.53584665,  6921.90248877, 13804.06257048,\n",
       "       15803.35870602, 16285.7648565 , 17736.43683641, 18291.94244653,\n",
       "       10090.01080476,  4414.64557421,  8232.45423149, 13680.8719279 ,\n",
       "       13134.8676427 ,  9583.1420624 ,  4477.27585226,  8756.53380273,\n",
       "       11213.9377414 ,  8108.5327388 , 11798.67114222,  9354.15162182,\n",
       "       18695.54889973, 13729.78893073,  8793.86772847,  6637.66359843,\n",
       "        9649.53663333, 10341.73151153, 12764.2969124 , 13387.7704828 ,\n",
       "       18775.92243293,  6990.15327674,  7988.53991352, 11047.36250774,\n",
       "        9192.38090652, 11178.42788026,  8253.30100765, 15393.76969199,\n",
       "       10717.82874994,  8341.82129871,  8628.2842121 , 18810.80352003,\n",
       "       18449.80654603, 10248.83313648, 12328.58224556, 13004.84431962,\n",
       "        8547.33240891,  5496.10286624, 11016.38457635, 10117.94928429,\n",
       "       11278.22885154,  8703.7095804 ,  9784.41694111, 13264.49594828,\n",
       "       10521.54627783, 11055.57888046,  8756.36966013,  9256.19778781,\n",
       "       17508.47656541, 10679.26288584, 10708.67733087,  7785.95680723,\n",
       "       16610.07009076,  9063.77162506, 10643.90846669,  9059.86529792,\n",
       "       13532.40541556, 13166.24017584,  9234.52130403, 10629.45415349,\n",
       "        8644.8480207 , 10431.39159905,  6761.32553162,  9160.8574549 ,\n",
       "       10516.78130261,  6783.84436969, 10479.5738974 ,  7620.68568844,\n",
       "        9160.50268965,  8025.01303001,  8524.40111684, 10191.36712002,\n",
       "        4496.4863128 , 16684.03887503, 12964.39955477,  6113.87888117,\n",
       "        7550.68786658, 12612.1645127 , 10060.46983893,  9855.28519362,\n",
       "       14488.71518159,  7162.34068311,  8927.48567397, 10641.73653349,\n",
       "       10122.33628869,  8331.73617475,  8694.76090175, 12043.34088025,\n",
       "       13220.1188454 ,  7114.18570059,  8804.72935406,  8829.97642663,\n",
       "       10764.71962062,  7930.75764074,  7087.84746264,  6527.33633483,\n",
       "        9122.05362492, 10126.16050921,  5979.66290717,  9697.43744166,\n",
       "        7876.37473713, 10696.28094586, 10509.06586448,  7607.21668262,\n",
       "        7002.83782743,  7578.15512841,  8402.52611138,  7675.82324487,\n",
       "        8884.56949434,  9120.00527581, 11160.56949181,  7500.42241827,\n",
       "       13853.812242  , 11606.30058844,  6956.88703089,  9225.43888352,\n",
       "        7438.18738006, 13480.18452922,  8918.32283224,  7886.8180683 ,\n",
       "       14063.43301327,  7275.09884654,  8451.71304033,  6094.24957807,\n",
       "       15726.33341678, 12286.8792455 , 11186.19287114, 12073.17448884,\n",
       "       15127.06124708, 18733.39739118, 12420.70355419, 19760.29775733,\n",
       "        6862.03737443,  8069.88000367,  7892.52251313,  7171.71649177,\n",
       "       12481.51911215, 18304.80517543,  8624.95721081,  7611.08959249,\n",
       "       12659.78767974, 14159.48508725,  8619.61488536,  6841.73748056,\n",
       "       12923.65649248, 11297.34186218, 18555.22439191, 11310.3568801 ,\n",
       "        7781.68692594, 10961.02840885,  5098.06517652, 12986.82583358,\n",
       "       11672.86409282,  7495.2062538 ,  9695.79612609,  7463.60377113,\n",
       "       11514.05365995, 12218.79950747, 13025.55909496,  9348.58697441,\n",
       "       10178.51176472, 12710.87749321, 11609.42319338,  7194.49727126,\n",
       "       10568.59327359, 10274.52696513, 10172.69058788,  9496.65695265,\n",
       "       19429.36600998,  9662.02772957,  9552.38631043,  9476.56639475,\n",
       "        9569.45673859,  7839.28440405, 10415.12564561,  9330.78936953,\n",
       "        6409.9135251 ,  8698.02268827,  9877.49301221,  8151.42924552,\n",
       "       10579.71172602,  8959.45529767, 19538.82503892,  8360.03224589,\n",
       "       16317.31251015,  7928.87065757, 10541.93236603, 11491.64872859,\n",
       "        7911.78655415,  7166.07873571,  8619.14551118,  8216.57432992,\n",
       "        6480.61219835,  8595.57101165,  7228.86066939,  9897.4722252 ,\n",
       "       11641.2437699 , 14136.79709552,  9555.08757154,  7900.23483705,\n",
       "        6348.17989882,  7192.54933968, 13277.0224658 , 13357.50454752,\n",
       "       13218.98689508, 16154.19509953, 10487.1498041 ,  8754.50616341,\n",
       "        8102.29269368, 14142.66389386, 19851.90330754,  9606.35333422,\n",
       "       12003.37801446, 16220.09672059, 10363.53787781, 11365.91828656,\n",
       "        7486.33801217, 13316.19109433,  8110.94233521, 11175.80410497,\n",
       "        7734.11553759, 15521.83660214,  9619.32686484,  8652.70800561,\n",
       "       12221.65144274,  7710.43453754,  6855.73467332,  8913.72605037,\n",
       "        8523.85564356,  8668.65912186,  7470.55579537, 11347.08774827,\n",
       "       10602.56106338, 18777.17020146, 10833.78078939, 16174.20743105,\n",
       "        6242.41706325,  7722.95173579,  7232.83512669, 10677.98992599,\n",
       "        9350.1819591 ,  5964.10251831,  7680.47710125, 13924.73435367,\n",
       "        7132.10708385, 16643.13677867,  6623.5552499 , 14153.9123301 ,\n",
       "        8076.22656687,  8769.7085022 , 15537.29820801,  7017.42441748,\n",
       "        9602.73916932,  9631.47042086, 17698.7232211 ,  7931.49709637,\n",
       "        6191.10807044,  6570.77407672,  5458.26806873,  6073.93291845,\n",
       "        8535.95606206, 14877.22920411, 10456.65868393, 14331.91077404])"
      ]
     },
     "execution_count": 426,
     "metadata": {},
     "output_type": "execute_result"
    }
   ],
   "source": [
    "pred"
   ]
  },
  {
   "cell_type": "code",
   "execution_count": 427,
   "id": "80ede2bd",
   "metadata": {},
   "outputs": [],
   "source": [
    "sp = pd.DataFrame(pred, columns=['Pred_pro_sp'])"
   ]
  },
  {
   "cell_type": "code",
   "execution_count": 428,
   "id": "4d6d78f5",
   "metadata": {},
   "outputs": [],
   "source": [
    "sp['Actual']=y_test.values"
   ]
  },
  {
   "cell_type": "markdown",
   "id": "82f22538",
   "metadata": {},
   "source": [
    "# Score and error"
   ]
  },
  {
   "cell_type": "code",
   "execution_count": 429,
   "id": "c012d70e",
   "metadata": {},
   "outputs": [],
   "source": [
    "from sklearn.metrics import r2_score, mean_squared_error, mean_absolute_error\n",
    "from math import sqrt"
   ]
  },
  {
   "cell_type": "code",
   "execution_count": 430,
   "id": "aef08ce5",
   "metadata": {},
   "outputs": [
    {
     "data": {
      "text/plain": [
       "1413"
      ]
     },
     "execution_count": 430,
     "metadata": {},
     "output_type": "execute_result"
    }
   ],
   "source": [
    "round(sqrt(mean_squared_error(sp['Actual'], sp['Pred_pro_sp'])))"
   ]
  },
  {
   "cell_type": "code",
   "execution_count": 431,
   "id": "5026da62",
   "metadata": {},
   "outputs": [
    {
     "name": "stdout",
     "output_type": "stream",
     "text": [
      "Strangth of the model = 82\n"
     ]
    }
   ],
   "source": [
    "str=round(r2_score(sp['Actual'], sp['Pred_pro_sp'])*100)\n",
    "print('Strangth of the model =',str )"
   ]
  },
  {
   "cell_type": "code",
   "execution_count": 432,
   "id": "33e1e832",
   "metadata": {},
   "outputs": [
    {
     "data": {
      "text/plain": [
       "1080.4605440738046"
      ]
     },
     "execution_count": 432,
     "metadata": {},
     "output_type": "execute_result"
    }
   ],
   "source": [
    "mean_absolute_error(sp['Actual'], sp['Pred_pro_sp'])"
   ]
  },
  {
   "cell_type": "markdown",
   "id": "09a87259",
   "metadata": {},
   "source": [
    "# Save model - 2"
   ]
  },
  {
   "cell_type": "code",
   "execution_count": null,
   "id": "22cf8f97",
   "metadata": {},
   "outputs": [],
   "source": [
    "import joblib"
   ]
  },
  {
   "cell_type": "code",
   "execution_count": 437,
   "id": "d36cd23f",
   "metadata": {},
   "outputs": [
    {
     "data": {
      "text/plain": [
       "['joblib_reg_model_pred_price_spr.sav']"
      ]
     },
     "execution_count": 437,
     "metadata": {},
     "output_type": "execute_result"
    }
   ],
   "source": [
    "pred_price_spr = 'joblib_reg_model_pred_price_spr.sav'\n",
    "joblib.dump(model_train,pred_price_spr)"
   ]
  },
  {
   "cell_type": "code",
   "execution_count": 441,
   "id": "12f9f9f0",
   "metadata": {},
   "outputs": [
    {
     "name": "stdout",
     "output_type": "stream",
     "text": [
      "LinearRegression()\n"
     ]
    }
   ],
   "source": [
    "loaded_model_2 = joblib.load(pred_price_spr)\n",
    "print(loaded_model_2)"
   ]
  },
  {
   "cell_type": "code",
   "execution_count": null,
   "id": "fbd7ca8c",
   "metadata": {},
   "outputs": [],
   "source": []
  },
  {
   "cell_type": "code",
   "execution_count": null,
   "id": "5105daae",
   "metadata": {},
   "outputs": [],
   "source": []
  }
 ],
 "metadata": {
  "kernelspec": {
   "display_name": "Python 3 (ipykernel)",
   "language": "python",
   "name": "python3"
  },
  "language_info": {
   "codemirror_mode": {
    "name": "ipython",
    "version": 3
   },
   "file_extension": ".py",
   "mimetype": "text/x-python",
   "name": "python",
   "nbconvert_exporter": "python",
   "pygments_lexer": "ipython3",
   "version": "3.11.4"
  }
 },
 "nbformat": 4,
 "nbformat_minor": 5
}
